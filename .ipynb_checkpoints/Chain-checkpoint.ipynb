{
 "cells": [
  {
   "cell_type": "code",
   "execution_count": 3,
   "id": "5aeed12e-ef29-4597-91aa-700f16be3e88",
   "metadata": {},
   "outputs": [
    {
     "data": {
      "text/plain": [
       "True"
      ]
     },
     "execution_count": 3,
     "metadata": {},
     "output_type": "execute_result"
    }
   ],
   "source": [
    "import os\n",
    "from dotenv import load_dotenv\n",
    "load_dotenv()"
   ]
  },
  {
   "cell_type": "code",
   "execution_count": 4,
   "id": "f6d79608-811c-42ea-b725-257bdcc68b5f",
   "metadata": {
    "collapsed": true,
    "jupyter": {
     "outputs_hidden": true
    },
    "scrolled": true
   },
   "outputs": [
    {
     "name": "stdout",
     "output_type": "stream",
     "text": [
      "Requirement already satisfied: pandas in d:\\anaconda\\envs\\myenv\\lib\\site-packages (2.2.3)\n",
      "Requirement already satisfied: numpy>=1.26.0 in d:\\anaconda\\envs\\myenv\\lib\\site-packages (from pandas) (2.2.3)\n",
      "Requirement already satisfied: python-dateutil>=2.8.2 in d:\\anaconda\\envs\\myenv\\lib\\site-packages (from pandas) (2.9.0.post0)\n",
      "Requirement already satisfied: pytz>=2020.1 in d:\\anaconda\\envs\\myenv\\lib\\site-packages (from pandas) (2025.1)\n",
      "Requirement already satisfied: tzdata>=2022.7 in d:\\anaconda\\envs\\myenv\\lib\\site-packages (from pandas) (2025.1)\n",
      "Requirement already satisfied: six>=1.5 in d:\\anaconda\\envs\\myenv\\lib\\site-packages (from python-dateutil>=2.8.2->pandas) (1.16.0)\n"
     ]
    }
   ],
   "source": [
    "!pip install pandas"
   ]
  },
  {
   "cell_type": "code",
   "execution_count": 5,
   "id": "4772c0b2-4df2-49b7-9f0b-1c1ab5c37e09",
   "metadata": {},
   "outputs": [],
   "source": [
    "import pandas as pd\n",
    "df = pd.read_csv('nba.csv')"
   ]
  },
  {
   "cell_type": "code",
   "execution_count": 6,
   "id": "9070ec3f-a8e1-4162-afa4-2b1223115b8f",
   "metadata": {},
   "outputs": [
    {
     "data": {
      "text/html": [
       "<div>\n",
       "<style scoped>\n",
       "    .dataframe tbody tr th:only-of-type {\n",
       "        vertical-align: middle;\n",
       "    }\n",
       "\n",
       "    .dataframe tbody tr th {\n",
       "        vertical-align: top;\n",
       "    }\n",
       "\n",
       "    .dataframe thead th {\n",
       "        text-align: right;\n",
       "    }\n",
       "</style>\n",
       "<table border=\"1\" class=\"dataframe\">\n",
       "  <thead>\n",
       "    <tr style=\"text-align: right;\">\n",
       "      <th></th>\n",
       "      <th>Name</th>\n",
       "      <th>Team</th>\n",
       "      <th>Number</th>\n",
       "      <th>Position</th>\n",
       "      <th>Age</th>\n",
       "      <th>Height</th>\n",
       "      <th>Weight</th>\n",
       "      <th>College</th>\n",
       "      <th>Salary</th>\n",
       "    </tr>\n",
       "  </thead>\n",
       "  <tbody>\n",
       "    <tr>\n",
       "      <th>0</th>\n",
       "      <td>Avery Bradley</td>\n",
       "      <td>Boston Celtics</td>\n",
       "      <td>0.0</td>\n",
       "      <td>PG</td>\n",
       "      <td>25.0</td>\n",
       "      <td>6-2</td>\n",
       "      <td>180.0</td>\n",
       "      <td>Texas</td>\n",
       "      <td>7730337.0</td>\n",
       "    </tr>\n",
       "    <tr>\n",
       "      <th>1</th>\n",
       "      <td>Jae Crowder</td>\n",
       "      <td>Boston Celtics</td>\n",
       "      <td>99.0</td>\n",
       "      <td>SF</td>\n",
       "      <td>25.0</td>\n",
       "      <td>6-6</td>\n",
       "      <td>235.0</td>\n",
       "      <td>Marquette</td>\n",
       "      <td>6796117.0</td>\n",
       "    </tr>\n",
       "    <tr>\n",
       "      <th>2</th>\n",
       "      <td>John Holland</td>\n",
       "      <td>Boston Celtics</td>\n",
       "      <td>30.0</td>\n",
       "      <td>SG</td>\n",
       "      <td>27.0</td>\n",
       "      <td>6-5</td>\n",
       "      <td>205.0</td>\n",
       "      <td>Boston University</td>\n",
       "      <td>NaN</td>\n",
       "    </tr>\n",
       "    <tr>\n",
       "      <th>3</th>\n",
       "      <td>R.J. Hunter</td>\n",
       "      <td>Boston Celtics</td>\n",
       "      <td>28.0</td>\n",
       "      <td>SG</td>\n",
       "      <td>22.0</td>\n",
       "      <td>6-5</td>\n",
       "      <td>185.0</td>\n",
       "      <td>Georgia State</td>\n",
       "      <td>1148640.0</td>\n",
       "    </tr>\n",
       "    <tr>\n",
       "      <th>4</th>\n",
       "      <td>Jonas Jerebko</td>\n",
       "      <td>Boston Celtics</td>\n",
       "      <td>8.0</td>\n",
       "      <td>PF</td>\n",
       "      <td>29.0</td>\n",
       "      <td>6-10</td>\n",
       "      <td>231.0</td>\n",
       "      <td>NaN</td>\n",
       "      <td>5000000.0</td>\n",
       "    </tr>\n",
       "  </tbody>\n",
       "</table>\n",
       "</div>"
      ],
      "text/plain": [
       "            Name            Team  Number Position   Age Height  Weight  \\\n",
       "0  Avery Bradley  Boston Celtics     0.0       PG  25.0    6-2   180.0   \n",
       "1    Jae Crowder  Boston Celtics    99.0       SF  25.0    6-6   235.0   \n",
       "2   John Holland  Boston Celtics    30.0       SG  27.0    6-5   205.0   \n",
       "3    R.J. Hunter  Boston Celtics    28.0       SG  22.0    6-5   185.0   \n",
       "4  Jonas Jerebko  Boston Celtics     8.0       PF  29.0   6-10   231.0   \n",
       "\n",
       "             College     Salary  \n",
       "0              Texas  7730337.0  \n",
       "1          Marquette  6796117.0  \n",
       "2  Boston University        NaN  \n",
       "3      Georgia State  1148640.0  \n",
       "4                NaN  5000000.0  "
      ]
     },
     "execution_count": 6,
     "metadata": {},
     "output_type": "execute_result"
    }
   ],
   "source": [
    "df.head()"
   ]
  },
  {
   "cell_type": "code",
   "execution_count": 7,
   "id": "43982141-0aaa-418b-8ef6-8e268c629208",
   "metadata": {},
   "outputs": [],
   "source": [
    "from langchain.chat_models import AzureChatOpenAI\n",
    "from langchain.prompts import ChatPromptTemplate\n",
    "from langchain.chains import LLMChain"
   ]
  },
  {
   "cell_type": "code",
   "execution_count": 8,
   "id": "5204e145-ecc3-4e50-bd68-e8a75089d927",
   "metadata": {},
   "outputs": [
    {
     "name": "stderr",
     "output_type": "stream",
     "text": [
      "C:\\Users\\HUAWEI\\AppData\\Local\\Temp\\ipykernel_17896\\2764354304.py:1: LangChainDeprecationWarning: The class `AzureChatOpenAI` was deprecated in LangChain 0.0.10 and will be removed in 1.0. An updated version of the class exists in the :class:`~langchain-openai package and should be used instead. To use it run `pip install -U :class:`~langchain-openai` and import as `from :class:`~langchain_openai import AzureChatOpenAI``.\n",
      "  llm = AzureChatOpenAI(\n",
      "D:\\Anaconda\\envs\\myenv\\Lib\\site-packages\\langchain_community\\chat_models\\azure_openai.py:174: UserWarning: As of openai>=1.0.0, Azure endpoints should be specified via the `azure_endpoint` param not `openai_api_base` (or alias `base_url`). Updating `openai_api_base` from https://pcg-east-us-2.openai.azure.com/ to https://pcg-east-us-2.openai.azure.com/openai.\n",
      "  warnings.warn(\n",
      "D:\\Anaconda\\envs\\myenv\\Lib\\site-packages\\langchain_community\\chat_models\\azure_openai.py:181: UserWarning: As of openai>=1.0.0, if `deployment_name` (or alias `azure_deployment`) is specified then `openai_api_base` (or alias `base_url`) should not be. Instead use `deployment_name` (or alias `azure_deployment`) and `azure_endpoint`.\n",
      "  warnings.warn(\n",
      "D:\\Anaconda\\envs\\myenv\\Lib\\site-packages\\langchain_community\\chat_models\\azure_openai.py:189: UserWarning: As of openai>=1.0.0, if `openai_api_base` (or alias `base_url`) is specified it is expected to be of the form https://example-resource.azure.openai.com/openai/deployments/example-deployment. Updating https://pcg-east-us-2.openai.azure.com/ to https://pcg-east-us-2.openai.azure.com/openai.\n",
      "  warnings.warn(\n"
     ]
    }
   ],
   "source": [
    "llm = AzureChatOpenAI(\n",
    "    azure_endpoint=os.getenv(\"AZURE_ENDPOINT\"),  # 从环境变量读取\n",
    "    openai_api_version=os.getenv(\"OPENAI_API_VERSION\"),\n",
    "    openai_api_key=os.getenv(\"OPENAI_API_KEY\"),\n",
    "    deployment_name=\"gpt-4o-mini\",\n",
    "    model_name=\"gpt-4o-mini\",\n",
    "    temperature=0.7\n",
    ")"
   ]
  },
  {
   "cell_type": "code",
   "execution_count": 9,
   "id": "9fb852d3-d2f0-4b64-82c3-76736b08e686",
   "metadata": {},
   "outputs": [],
   "source": [
    "prompt = ChatPromptTemplate.from_template(\n",
    "    \"What is the best name to describe a team that hires the {player}?\"\n",
    ")"
   ]
  },
  {
   "cell_type": "code",
   "execution_count": 10,
   "id": "0dcfaa90-4157-4edf-821b-97289fedb734",
   "metadata": {},
   "outputs": [
    {
     "name": "stderr",
     "output_type": "stream",
     "text": [
      "C:\\Users\\HUAWEI\\AppData\\Local\\Temp\\ipykernel_17896\\1305865249.py:1: LangChainDeprecationWarning: The class `LLMChain` was deprecated in LangChain 0.1.17 and will be removed in 1.0. Use :meth:`~RunnableSequence, e.g., `prompt | llm`` instead.\n",
      "  chain = LLMChain(llm=llm, prompt=prompt)\n"
     ]
    }
   ],
   "source": [
    "chain = LLMChain(llm=llm, prompt=prompt)"
   ]
  },
  {
   "cell_type": "code",
   "execution_count": 11,
   "id": "198832dc-db54-4b62-99ed-3213d0b225e4",
   "metadata": {},
   "outputs": [
    {
     "data": {
      "text/plain": [
       "{'player': 'Jonas Jerebko',\n",
       " 'text': 'A fitting name for a team that hires Jonas Jerebko could be \"Jerebko\\'s Juggernauts\" or \"Jerebko\\'s Warriors.\" These names highlight his strong presence on the court and convey a sense of power and determination. If you want something more playful, you could consider \"Jerebko\\'s Jetsetters\" to emphasize agility and speed. Ultimately, the best name would depend on the team\\'s overall identity and style of play!'}"
      ]
     },
     "execution_count": 11,
     "metadata": {},
     "output_type": "execute_result"
    }
   ],
   "source": [
    "player = \"Jonas Jerebko\"\n",
    "chain.invoke(player)"
   ]
  },
  {
   "cell_type": "code",
   "execution_count": 59,
   "id": "e2d36b1c-fed3-4c2a-acc2-1c2826ece16f",
   "metadata": {},
   "outputs": [],
   "source": [
    "from langchain.chains import SimpleSequentialChain\n",
    "#事实上，该模块被标记为弃用，后面直接使用‘|’来构建pipeline\n",
    "from langchain.chains import SequentialChain"
   ]
  },
  {
   "cell_type": "code",
   "execution_count": 13,
   "id": "cafa3d82-4773-4ae3-bcbc-9f7b04cfbdff",
   "metadata": {},
   "outputs": [
    {
     "name": "stderr",
     "output_type": "stream",
     "text": [
      "D:\\Anaconda\\envs\\myenv\\Lib\\site-packages\\langchain_community\\chat_models\\azure_openai.py:174: UserWarning: As of openai>=1.0.0, Azure endpoints should be specified via the `azure_endpoint` param not `openai_api_base` (or alias `base_url`). Updating `openai_api_base` from https://pcg-east-us-2.openai.azure.com/ to https://pcg-east-us-2.openai.azure.com/openai.\n",
      "  warnings.warn(\n",
      "D:\\Anaconda\\envs\\myenv\\Lib\\site-packages\\langchain_community\\chat_models\\azure_openai.py:181: UserWarning: As of openai>=1.0.0, if `deployment_name` (or alias `azure_deployment`) is specified then `openai_api_base` (or alias `base_url`) should not be. Instead use `deployment_name` (or alias `azure_deployment`) and `azure_endpoint`.\n",
      "  warnings.warn(\n",
      "D:\\Anaconda\\envs\\myenv\\Lib\\site-packages\\langchain_community\\chat_models\\azure_openai.py:189: UserWarning: As of openai>=1.0.0, if `openai_api_base` (or alias `base_url`) is specified it is expected to be of the form https://example-resource.azure.openai.com/openai/deployments/example-deployment. Updating https://pcg-east-us-2.openai.azure.com/ to https://pcg-east-us-2.openai.azure.com/openai.\n",
      "  warnings.warn(\n"
     ]
    }
   ],
   "source": [
    "llm = AzureChatOpenAI(\n",
    "    azure_endpoint=os.getenv(\"AZURE_ENDPOINT\"),  # 从环境变量读取\n",
    "    openai_api_version=os.getenv(\"OPENAI_API_VERSION\"),\n",
    "    openai_api_key=os.getenv(\"OPENAI_API_KEY\"),\n",
    "    deployment_name=\"gpt-4o-mini\",\n",
    "    model_name=\"gpt-4o-mini\",\n",
    "    temperature=0.7\n",
    ")"
   ]
  },
  {
   "cell_type": "code",
   "execution_count": 14,
   "id": "c18268e2-b627-4802-b1e6-e57579bbde2e",
   "metadata": {},
   "outputs": [],
   "source": [
    "#prompt template 1\n",
    "first_prompt = ChatPromptTemplate.from_template(\n",
    "    \"What is the best name to describe a team that hires the {player}?\"\n",
    ")\n",
    "\n",
    "#chain 1\n",
    "chain_1 = first_prompt|llm"
   ]
  },
  {
   "cell_type": "code",
   "execution_count": 15,
   "id": "d6064242-9f2b-4fe2-b751-545a1afe37d4",
   "metadata": {},
   "outputs": [],
   "source": [
    "#prompt template 1\n",
    "second_prompt = ChatPromptTemplate.from_template(\n",
    "    \"Wriet a 20 words description for the team {team_name}.\"\n",
    ")\n",
    "\n",
    "#chain 2\n",
    "chain_2 = second_prompt|llm"
   ]
  },
  {
   "cell_type": "code",
   "execution_count": 16,
   "id": "2b554cbc-8d4d-44a9-82b3-bf22aa251dd2",
   "metadata": {},
   "outputs": [],
   "source": [
    "overall_simple_chain = chain_1|chain_2\n",
    "#新版本可以直接写：first_prompt|llm|second_prompt|llm"
   ]
  },
  {
   "cell_type": "code",
   "execution_count": 17,
   "id": "2e7d5837-2ee5-4bba-b6c5-f3dfed2dcaa8",
   "metadata": {},
   "outputs": [
    {
     "name": "stdout",
     "output_type": "stream",
     "text": [
      "\"Jerebko's Juggernauts\" embodies strength and competitive spirit, while \"Jerebko's All-Stars\" emphasizes talent and skill on the court.\n"
     ]
    }
   ],
   "source": [
    "player = \"\"\n",
    "response = overall_simple_chain.invoke(player)\n",
    "print(response.content)"
   ]
  },
  {
   "cell_type": "code",
   "execution_count": 75,
   "id": "9c58b3be-12d2-489e-adb5-0405647784af",
   "metadata": {},
   "outputs": [],
   "source": [
    "from langchain_core.output_parsers import StrOutputParser\n",
    "prompt1 = ChatPromptTemplate.from_template(\n",
    "    \"What is the best word to describe that player {player}?\"\n",
    ")\n",
    "chain1 = prompt1|llm|StrOutputParser()\n",
    "\n",
    "prompt2 = ChatPromptTemplate.from_template(\n",
    "    \"What is the origin of this word {word}?\"\n",
    ")\n",
    "chain2 = prompt2|llm|StrOutputParser()\n",
    "\n",
    "prompt3 = ChatPromptTemplate.from_template(\n",
    "    \"Which team does {player} plays for?\"\n",
    ")\n",
    "chain3 = prompt3|llm|StrOutputParser()\n",
    "\n",
    "prompt4 = ChatPromptTemplate.from_template(\n",
    "    \"Is there any relationship between the {origin} and the {team}?\"\n",
    ")\n",
    "chain4 = prompt4|llm|StrOutputParser()"
   ]
  },
  {
   "cell_type": "code",
   "execution_count": 97,
   "id": "acd8d714-48d0-41a0-8a40-e2665e03da2c",
   "metadata": {},
   "outputs": [],
   "source": [
    "dict1_2 = {\"origin\" : ({\"word\":chain1}|chain2)}\n",
    "dict3 = {\"team\" : chain3}\n",
    "##务必看懂这一段，学会如何构建复杂的链路，我花了一下午www！\n",
    "final_chain = {\"origin\" : ({\"word\":chain1}|chain2), \"team\" : chain3}|chain4"
   ]
  },
  {
   "cell_type": "code",
   "execution_count": 102,
   "id": "fe41e6f7-f187-4aec-abb8-4e7610aa33c4",
   "metadata": {},
   "outputs": [],
   "source": [
    "final_chain_with_outputs = final_chain|{\n",
    "    \"word\":chain1,\n",
    "    \"origin\":({\"word\":chain1}|chain2),\n",
    "    \"team\":chain3,\n",
    "    \"final_results\":final_chain\n",
    "}"
   ]
  },
  {
   "cell_type": "code",
   "execution_count": 103,
   "id": "02fddeb2-becf-492c-9ca6-48d5e7d275a4",
   "metadata": {
    "collapsed": true,
    "jupyter": {
     "outputs_hidden": true
    }
   },
   "outputs": [
    {
     "data": {
      "text/plain": [
       "{'word': 'The best word to describe R.J. Hunter, considering the attributes you\\'ve outlined, would be **\"versatile.\"** This term encapsulates his ability to perform multiple roles effectively on the basketball court, combining aspects of skill and dynamism. A versatile player can adapt to various situations during a game, contributing in different ways whether it be through scoring, assisting, or defending. While \"skilled\" and \"dynamic\" are also fitting descriptors, \"versatile\" encompasses the broader range of his capabilities and adaptability as a player.',\n",
       " 'origin': 'The word \"versatile\" originates from the Latin term \"versatilis,\" which means \"turning\" or \"turning easily.\" This Latin word comes from \"versare,\" the frequentative form of \"vertere,\" which means \"to turn.\" The term evolved in English to describe something or someone capable of adapting or being adapted for many different functions or activities. In the context of basketball, describing a player as \"versatile\" emphasizes their ability to perform well in various roles and situations, reflecting the dynamic nature of the sport.',\n",
       " 'team': \"As of my last update in October 2023, R.J. Hunter was playing for the Fort Wayne Mad Ants, which is the G League affiliate of the Indiana Pacers. However, player rosters can change frequently due to trades, signings, or other career developments. For the most up-to-date information, it's best to check the latest sports news or the official team website.\",\n",
       " 'final_results': 'While the two statements you provided discuss different topics—one about the word \"versatile\" and its etymology, and the other about R.J. Hunter\\'s career in basketball—they can be related conceptually. \\n\\nThe term \"versatile\" describes a quality that is highly valued in basketball players, such as R.J. Hunter, who may possess the ability to play multiple positions or contribute in various ways on the court. A versatile player can adapt to different roles and situations during a game, enhancing their team\\'s performance. \\n\\nR.J. Hunter\\'s career in the G League, where players often need to demonstrate versatility to attract attention from NBA teams, exemplifies how this quality is important in the sport. If Hunter has the ability to perform various roles effectively, he would be considered a versatile player, which could increase his value to his team and improve his chances of advancing to the NBA. \\n\\nIn summary, while the two statements address different subjects, they share a common theme regarding the importance of versatility in basketball and how it relates to a player\\'s effectiveness and adaptability in the game.'}"
      ]
     },
     "execution_count": 103,
     "metadata": {},
     "output_type": "execute_result"
    }
   ],
   "source": [
    "player = \"R.J. Hunter\"\n",
    "final_chain_with_outputs.invoke(player)"
   ]
  },
  {
   "cell_type": "code",
   "execution_count": 100,
   "id": "7cb4a31c-770e-4dd4-863c-41d05ab66910",
   "metadata": {},
   "outputs": [],
   "source": [
    "# from langchain_core.output_parsers import StrOutputParser, JsonOutputParser\n",
    "# from langchain_core.prompts import PromptTemplate\n",
    "# from openai import BaseModel\n",
    "\n",
    "# class M(BaseModel):\n",
    "#     content: str\n",
    "#     summary: str\n",
    "# parser = JsonOutputParser(pydantic_object=M)\n",
    "\n",
    "# summarizing_prompt_template = \"\"\"\n",
    "# 总结以下文本为一个 20 字以内的句子，输出格式为原始 json，json 里面有字段 content、summary:\n",
    "# ---\n",
    "# {content}\n",
    "# \"\"\"\n",
    "# prompt = PromptTemplate.from_template(summarizing_prompt_template)\n",
    "# summarizing_chain = prompt | llm | parser\n",
    "\n",
    "# translating_prompt_template = \"\"\"\n",
    "# 将{summary}翻译成英文，输出格式为原始 json，json 里面有字段 content、summary、translated，其中 content 的值为 {content}，summary 的值为 {summary}，translated 的值为翻译后的英文句子。:\n",
    "# \"\"\"\n",
    "# prompt = PromptTemplate.from_template(translating_prompt_template)\n",
    "# translating_chain = prompt | llm | StrOutputParser()\n",
    "\n",
    "# overall_chain = summarizing_chain | translating_chain\n",
    "\n",
    "# print(overall_chain.invoke({\"content\": \"这是一个测试。\"}))"
   ]
  },
  {
   "cell_type": "code",
   "execution_count": 101,
   "id": "be7fe66d-6566-442c-ad5a-575cbb15886b",
   "metadata": {
    "collapsed": true,
    "jupyter": {
     "outputs_hidden": true
    }
   },
   "outputs": [
    {
     "data": {
      "text/plain": [
       "'Yes, there is a relationship between the definitions and context you\\'ve provided. The word \"versatile,\" which comes from the Latin \"versatilis,\" signifies the ability to adapt or function in various roles or situations. This is particularly relevant when discussing an athlete like R.J. Hunter, who is noted for his capacity to excel in different positions on the basketball court.\\n\\nHis versatility as a player allows him to contribute to the team in multiple ways, whether through scoring, playmaking, or defensive capabilities. This adaptability is a valuable trait in sports, where players often need to adjust their skills to fit the team\\'s needs or the demands of a game.\\n\\nRegarding R.J. Hunter\\'s current status, as of my last update, he was with the Cleveland Charge in the NBA G League. Player rosters can change frequently due to trades and other factors, so it\\'s wise to consult the latest news for the most current information on his career. The connection between the concept of versatility and Hunter\\'s role in basketball showcases how language can effectively convey the qualities of an athlete in a specific context.'"
      ]
     },
     "execution_count": 101,
     "metadata": {},
     "output_type": "execute_result"
    }
   ],
   "source": [
    "final_chain.invoke(player)"
   ]
  },
  {
   "cell_type": "code",
   "execution_count": 132,
   "id": "0afd2b4f-43a4-4448-8138-f416b5d297d3",
   "metadata": {
    "collapsed": true,
    "jupyter": {
     "outputs_hidden": true
    }
   },
   "outputs": [
    {
     "name": "stdout",
     "output_type": "stream",
     "text": [
      "Collecting langgraph\n",
      "  Downloading langgraph-0.3.2-py3-none-any.whl.metadata (17 kB)\n",
      "Requirement already satisfied: langchain-core<0.4,>=0.1 in d:\\anaconda\\envs\\myenv\\lib\\site-packages (from langgraph) (0.3.40)\n",
      "Collecting langgraph-checkpoint<3.0.0,>=2.0.10 (from langgraph)\n",
      "  Downloading langgraph_checkpoint-2.0.16-py3-none-any.whl.metadata (4.6 kB)\n",
      "Collecting langgraph-prebuilt<0.2,>=0.1.1 (from langgraph)\n",
      "  Downloading langgraph_prebuilt-0.1.1-py3-none-any.whl.metadata (5.0 kB)\n",
      "Collecting langgraph-sdk<0.2.0,>=0.1.42 (from langgraph)\n",
      "  Downloading langgraph_sdk-0.1.53-py3-none-any.whl.metadata (1.8 kB)\n",
      "Requirement already satisfied: langsmith<0.4,>=0.1.125 in d:\\anaconda\\envs\\myenv\\lib\\site-packages (from langchain-core<0.4,>=0.1->langgraph) (0.3.11)\n",
      "Requirement already satisfied: tenacity!=8.4.0,<10.0.0,>=8.1.0 in d:\\anaconda\\envs\\myenv\\lib\\site-packages (from langchain-core<0.4,>=0.1->langgraph) (9.0.0)\n",
      "Requirement already satisfied: jsonpatch<2.0,>=1.33 in d:\\anaconda\\envs\\myenv\\lib\\site-packages (from langchain-core<0.4,>=0.1->langgraph) (1.33)\n",
      "Requirement already satisfied: PyYAML>=5.3 in d:\\anaconda\\envs\\myenv\\lib\\site-packages (from langchain-core<0.4,>=0.1->langgraph) (6.0.2)\n",
      "Requirement already satisfied: packaging<25,>=23.2 in d:\\anaconda\\envs\\myenv\\lib\\site-packages (from langchain-core<0.4,>=0.1->langgraph) (24.2)\n",
      "Requirement already satisfied: typing-extensions>=4.7 in d:\\anaconda\\envs\\myenv\\lib\\site-packages (from langchain-core<0.4,>=0.1->langgraph) (4.12.2)\n",
      "Requirement already satisfied: pydantic<3.0.0,>=2.7.4 in d:\\anaconda\\envs\\myenv\\lib\\site-packages (from langchain-core<0.4,>=0.1->langgraph) (2.10.6)\n",
      "Collecting msgpack<2.0.0,>=1.1.0 (from langgraph-checkpoint<3.0.0,>=2.0.10->langgraph)\n",
      "  Downloading msgpack-1.1.0-cp312-cp312-win_amd64.whl.metadata (8.6 kB)\n",
      "Requirement already satisfied: httpx>=0.25.2 in d:\\anaconda\\envs\\myenv\\lib\\site-packages (from langgraph-sdk<0.2.0,>=0.1.42->langgraph) (0.27.0)\n",
      "Requirement already satisfied: orjson>=3.10.1 in d:\\anaconda\\envs\\myenv\\lib\\site-packages (from langgraph-sdk<0.2.0,>=0.1.42->langgraph) (3.10.15)\n",
      "Requirement already satisfied: anyio in d:\\anaconda\\envs\\myenv\\lib\\site-packages (from httpx>=0.25.2->langgraph-sdk<0.2.0,>=0.1.42->langgraph) (4.6.2)\n",
      "Requirement already satisfied: certifi in d:\\anaconda\\envs\\myenv\\lib\\site-packages (from httpx>=0.25.2->langgraph-sdk<0.2.0,>=0.1.42->langgraph) (2025.1.31)\n",
      "Requirement already satisfied: httpcore==1.* in d:\\anaconda\\envs\\myenv\\lib\\site-packages (from httpx>=0.25.2->langgraph-sdk<0.2.0,>=0.1.42->langgraph) (1.0.2)\n",
      "Requirement already satisfied: idna in d:\\anaconda\\envs\\myenv\\lib\\site-packages (from httpx>=0.25.2->langgraph-sdk<0.2.0,>=0.1.42->langgraph) (3.7)\n",
      "Requirement already satisfied: sniffio in d:\\anaconda\\envs\\myenv\\lib\\site-packages (from httpx>=0.25.2->langgraph-sdk<0.2.0,>=0.1.42->langgraph) (1.3.0)\n",
      "Requirement already satisfied: h11<0.15,>=0.13 in d:\\anaconda\\envs\\myenv\\lib\\site-packages (from httpcore==1.*->httpx>=0.25.2->langgraph-sdk<0.2.0,>=0.1.42->langgraph) (0.14.0)\n",
      "Requirement already satisfied: jsonpointer>=1.9 in d:\\anaconda\\envs\\myenv\\lib\\site-packages (from jsonpatch<2.0,>=1.33->langchain-core<0.4,>=0.1->langgraph) (3.0.0)\n",
      "Requirement already satisfied: requests<3,>=2 in d:\\anaconda\\envs\\myenv\\lib\\site-packages (from langsmith<0.4,>=0.1.125->langchain-core<0.4,>=0.1->langgraph) (2.32.3)\n",
      "Requirement already satisfied: requests-toolbelt<2.0.0,>=1.0.0 in d:\\anaconda\\envs\\myenv\\lib\\site-packages (from langsmith<0.4,>=0.1.125->langchain-core<0.4,>=0.1->langgraph) (1.0.0)\n",
      "Requirement already satisfied: zstandard<0.24.0,>=0.23.0 in d:\\anaconda\\envs\\myenv\\lib\\site-packages (from langsmith<0.4,>=0.1.125->langchain-core<0.4,>=0.1->langgraph) (0.23.0)\n",
      "Requirement already satisfied: annotated-types>=0.6.0 in d:\\anaconda\\envs\\myenv\\lib\\site-packages (from pydantic<3.0.0,>=2.7.4->langchain-core<0.4,>=0.1->langgraph) (0.7.0)\n",
      "Requirement already satisfied: pydantic-core==2.27.2 in d:\\anaconda\\envs\\myenv\\lib\\site-packages (from pydantic<3.0.0,>=2.7.4->langchain-core<0.4,>=0.1->langgraph) (2.27.2)\n",
      "Requirement already satisfied: charset-normalizer<4,>=2 in d:\\anaconda\\envs\\myenv\\lib\\site-packages (from requests<3,>=2->langsmith<0.4,>=0.1.125->langchain-core<0.4,>=0.1->langgraph) (3.3.2)\n",
      "Requirement already satisfied: urllib3<3,>=1.21.1 in d:\\anaconda\\envs\\myenv\\lib\\site-packages (from requests<3,>=2->langsmith<0.4,>=0.1.125->langchain-core<0.4,>=0.1->langgraph) (2.3.0)\n",
      "Downloading langgraph-0.3.2-py3-none-any.whl (130 kB)\n",
      "Downloading langgraph_checkpoint-2.0.16-py3-none-any.whl (38 kB)\n",
      "Downloading langgraph_prebuilt-0.1.1-py3-none-any.whl (24 kB)\n",
      "Downloading langgraph_sdk-0.1.53-py3-none-any.whl (45 kB)\n",
      "Downloading msgpack-1.1.0-cp312-cp312-win_amd64.whl (75 kB)\n",
      "Installing collected packages: msgpack, langgraph-sdk, langgraph-checkpoint, langgraph-prebuilt, langgraph\n",
      "Successfully installed langgraph-0.3.2 langgraph-checkpoint-2.0.16 langgraph-prebuilt-0.1.1 langgraph-sdk-0.1.53 msgpack-1.1.0\n"
     ]
    }
   ],
   "source": [
    "!pip install langgraph"
   ]
  },
  {
   "cell_type": "code",
   "execution_count": 148,
   "id": "733f4a38-1781-42e7-9cec-ba9c170f1438",
   "metadata": {
    "collapsed": true,
    "jupyter": {
     "outputs_hidden": true
    }
   },
   "outputs": [
    {
     "name": "stdout",
     "output_type": "stream",
     "text": [
      "Collecting langchain-openai\n",
      "  Downloading langchain_openai-0.3.7-py3-none-any.whl.metadata (2.3 kB)\n",
      "Requirement already satisfied: langchain-core<1.0.0,>=0.3.39 in d:\\anaconda\\envs\\myenv\\lib\\site-packages (from langchain-openai) (0.3.40)\n",
      "Requirement already satisfied: openai<2.0.0,>=1.58.1 in d:\\anaconda\\envs\\myenv\\lib\\site-packages (from langchain-openai) (1.64.0)\n",
      "Requirement already satisfied: tiktoken<1,>=0.7 in d:\\anaconda\\envs\\myenv\\lib\\site-packages (from langchain-openai) (0.9.0)\n",
      "Requirement already satisfied: langsmith<0.4,>=0.1.125 in d:\\anaconda\\envs\\myenv\\lib\\site-packages (from langchain-core<1.0.0,>=0.3.39->langchain-openai) (0.3.11)\n",
      "Requirement already satisfied: tenacity!=8.4.0,<10.0.0,>=8.1.0 in d:\\anaconda\\envs\\myenv\\lib\\site-packages (from langchain-core<1.0.0,>=0.3.39->langchain-openai) (9.0.0)\n",
      "Requirement already satisfied: jsonpatch<2.0,>=1.33 in d:\\anaconda\\envs\\myenv\\lib\\site-packages (from langchain-core<1.0.0,>=0.3.39->langchain-openai) (1.33)\n",
      "Requirement already satisfied: PyYAML>=5.3 in d:\\anaconda\\envs\\myenv\\lib\\site-packages (from langchain-core<1.0.0,>=0.3.39->langchain-openai) (6.0.2)\n",
      "Requirement already satisfied: packaging<25,>=23.2 in d:\\anaconda\\envs\\myenv\\lib\\site-packages (from langchain-core<1.0.0,>=0.3.39->langchain-openai) (24.2)\n",
      "Requirement already satisfied: typing-extensions>=4.7 in d:\\anaconda\\envs\\myenv\\lib\\site-packages (from langchain-core<1.0.0,>=0.3.39->langchain-openai) (4.12.2)\n",
      "Requirement already satisfied: pydantic<3.0.0,>=2.7.4 in d:\\anaconda\\envs\\myenv\\lib\\site-packages (from langchain-core<1.0.0,>=0.3.39->langchain-openai) (2.10.6)\n",
      "Requirement already satisfied: anyio<5,>=3.5.0 in d:\\anaconda\\envs\\myenv\\lib\\site-packages (from openai<2.0.0,>=1.58.1->langchain-openai) (4.6.2)\n",
      "Requirement already satisfied: distro<2,>=1.7.0 in d:\\anaconda\\envs\\myenv\\lib\\site-packages (from openai<2.0.0,>=1.58.1->langchain-openai) (1.9.0)\n",
      "Requirement already satisfied: httpx<1,>=0.23.0 in d:\\anaconda\\envs\\myenv\\lib\\site-packages (from openai<2.0.0,>=1.58.1->langchain-openai) (0.27.0)\n",
      "Requirement already satisfied: jiter<1,>=0.4.0 in d:\\anaconda\\envs\\myenv\\lib\\site-packages (from openai<2.0.0,>=1.58.1->langchain-openai) (0.8.2)\n",
      "Requirement already satisfied: sniffio in d:\\anaconda\\envs\\myenv\\lib\\site-packages (from openai<2.0.0,>=1.58.1->langchain-openai) (1.3.0)\n",
      "Requirement already satisfied: tqdm>4 in d:\\anaconda\\envs\\myenv\\lib\\site-packages (from openai<2.0.0,>=1.58.1->langchain-openai) (4.67.1)\n",
      "Requirement already satisfied: regex>=2022.1.18 in d:\\anaconda\\envs\\myenv\\lib\\site-packages (from tiktoken<1,>=0.7->langchain-openai) (2024.11.6)\n",
      "Requirement already satisfied: requests>=2.26.0 in d:\\anaconda\\envs\\myenv\\lib\\site-packages (from tiktoken<1,>=0.7->langchain-openai) (2.32.3)\n",
      "Requirement already satisfied: idna>=2.8 in d:\\anaconda\\envs\\myenv\\lib\\site-packages (from anyio<5,>=3.5.0->openai<2.0.0,>=1.58.1->langchain-openai) (3.7)\n",
      "Requirement already satisfied: certifi in d:\\anaconda\\envs\\myenv\\lib\\site-packages (from httpx<1,>=0.23.0->openai<2.0.0,>=1.58.1->langchain-openai) (2025.1.31)\n",
      "Requirement already satisfied: httpcore==1.* in d:\\anaconda\\envs\\myenv\\lib\\site-packages (from httpx<1,>=0.23.0->openai<2.0.0,>=1.58.1->langchain-openai) (1.0.2)\n",
      "Requirement already satisfied: h11<0.15,>=0.13 in d:\\anaconda\\envs\\myenv\\lib\\site-packages (from httpcore==1.*->httpx<1,>=0.23.0->openai<2.0.0,>=1.58.1->langchain-openai) (0.14.0)\n",
      "Requirement already satisfied: jsonpointer>=1.9 in d:\\anaconda\\envs\\myenv\\lib\\site-packages (from jsonpatch<2.0,>=1.33->langchain-core<1.0.0,>=0.3.39->langchain-openai) (3.0.0)\n",
      "Requirement already satisfied: orjson<4.0.0,>=3.9.14 in d:\\anaconda\\envs\\myenv\\lib\\site-packages (from langsmith<0.4,>=0.1.125->langchain-core<1.0.0,>=0.3.39->langchain-openai) (3.10.15)\n",
      "Requirement already satisfied: requests-toolbelt<2.0.0,>=1.0.0 in d:\\anaconda\\envs\\myenv\\lib\\site-packages (from langsmith<0.4,>=0.1.125->langchain-core<1.0.0,>=0.3.39->langchain-openai) (1.0.0)\n",
      "Requirement already satisfied: zstandard<0.24.0,>=0.23.0 in d:\\anaconda\\envs\\myenv\\lib\\site-packages (from langsmith<0.4,>=0.1.125->langchain-core<1.0.0,>=0.3.39->langchain-openai) (0.23.0)\n",
      "Requirement already satisfied: annotated-types>=0.6.0 in d:\\anaconda\\envs\\myenv\\lib\\site-packages (from pydantic<3.0.0,>=2.7.4->langchain-core<1.0.0,>=0.3.39->langchain-openai) (0.7.0)\n",
      "Requirement already satisfied: pydantic-core==2.27.2 in d:\\anaconda\\envs\\myenv\\lib\\site-packages (from pydantic<3.0.0,>=2.7.4->langchain-core<1.0.0,>=0.3.39->langchain-openai) (2.27.2)\n",
      "Requirement already satisfied: charset-normalizer<4,>=2 in d:\\anaconda\\envs\\myenv\\lib\\site-packages (from requests>=2.26.0->tiktoken<1,>=0.7->langchain-openai) (3.3.2)\n",
      "Requirement already satisfied: urllib3<3,>=1.21.1 in d:\\anaconda\\envs\\myenv\\lib\\site-packages (from requests>=2.26.0->tiktoken<1,>=0.7->langchain-openai) (2.3.0)\n",
      "Requirement already satisfied: colorama in d:\\anaconda\\envs\\myenv\\lib\\site-packages (from tqdm>4->openai<2.0.0,>=1.58.1->langchain-openai) (0.4.6)\n",
      "Downloading langchain_openai-0.3.7-py3-none-any.whl (55 kB)\n",
      "Installing collected packages: langchain-openai\n",
      "Successfully installed langchain-openai-0.3.7\n"
     ]
    }
   ],
   "source": [
    "!pip install langchain-openai"
   ]
  },
  {
   "cell_type": "code",
   "execution_count": 149,
   "id": "ba55575e-cf03-423b-aef2-8ace138797b3",
   "metadata": {},
   "outputs": [],
   "source": [
    "from operator import itemgetter\n",
    "from typing import Literal\n",
    "\n",
    "from langchain_core.output_parsers import StrOutputParser\n",
    "from langchain_core.prompts import ChatPromptTemplate\n",
    "from langchain_core.runnables import RunnableConfig\n",
    "from langchain_openai import AzureChatOpenAI #以后要从langchain_openai导入\n",
    "from langgraph.graph import END, START, StateGraph\n",
    "from typing_extensions import TypedDict"
   ]
  },
  {
   "cell_type": "code",
   "execution_count": 162,
   "id": "ac699438-3854-470f-aa50-5b3df3e8f1ef",
   "metadata": {},
   "outputs": [
    {
     "name": "stdout",
     "output_type": "stream",
     "text": [
      "https://pcg-east-us-2.openai.azure.com/\n"
     ]
    }
   ],
   "source": [
    "load_dotenv()\n",
    "with open('.env', 'a') as f:\n",
    "    f.write(\"AZURE_ENDPOINT=https://pcg-east-us-2.openai.azure.com/\")\n",
    "print(os.getenv(\"AZURE_ENDPOINT\"))"
   ]
  },
  {
   "cell_type": "code",
   "execution_count": 163,
   "id": "fbcfdb8a-1b87-4348-84ff-ef131bbc11d6",
   "metadata": {},
   "outputs": [],
   "source": [
    "llm = AzureChatOpenAI(\n",
    "    azure_endpoint=os.getenv(\"AZURE_ENDPOINT\"),  # 从环境变量读取\n",
    "    openai_api_version=os.getenv(\"OPENAI_API_VERSION\"),\n",
    "    openai_api_key=os.getenv(\"OPENAI_API_KEY\"),\n",
    "    deployment_name=\"gpt-4o-mini\",\n",
    "    model_name=\"gpt-4o-mini\",\n",
    "    temperature=0.7\n",
    ")"
   ]
  },
  {
   "cell_type": "code",
   "execution_count": 164,
   "id": "a4e30c04-3bb0-4b60-8eb0-ed8fb52de1a5",
   "metadata": {},
   "outputs": [],
   "source": [
    "#定义提示模板\n",
    "#动物专家链\n",
    "prompt_1 = ChatPromptTemplate.from_messages(\n",
    "    [\n",
    "        (\"system\", \"You are an expert on animals.\"),\n",
    "        (\"human\", \"{input}\"),\n",
    "    ]\n",
    ")\n",
    "#蔬菜专家链\n",
    "prompt_2 = ChatPromptTemplate.from_messages(\n",
    "    [\n",
    "        (\"system\", \"You are an expert on vegetables.\"),\n",
    "        (\"human\", \"{input}\"),\n",
    "    ]\n",
    ")"
   ]
  },
  {
   "cell_type": "code",
   "execution_count": 165,
   "id": "af41cd25-ed2b-4d18-9dc1-f85e1f9bfd5e",
   "metadata": {},
   "outputs": [],
   "source": [
    "#构建子链\n",
    "chain_1 = prompt_1 | llm | StrOutputParser()\n",
    "chain_2 = prompt_2 | llm | StrOutputParser()"
   ]
  },
  {
   "cell_type": "code",
   "execution_count": 166,
   "id": "33a17571-8639-4950-b68b-50cce3334cc1",
   "metadata": {},
   "outputs": [],
   "source": [
    "#定义路由链\n",
    "route_system = \"Route the user's query to either the animal or vegetable expert.\"\n",
    "route_prompt = ChatPromptTemplate.from_messages(\n",
    "    [\n",
    "        (\"system\", route_system),\n",
    "        (\"human\", \"{input}\")\n",
    "    ]\n",
    ")\n",
    "\n",
    "#TypedDict为python的类型提示工具，在python中冒号：用于类型注解\n",
    "class RouteQuery(TypedDict):\n",
    "    \"\"\"Route query to destination expert.\"\"\"\n",
    "    destination: Literal[\"animal\", \"vegetable\"]\n",
    "\n",
    "route_chain = route_prompt | llm.with_structured_output(RouteQuery)"
   ]
  },
  {
   "cell_type": "code",
   "execution_count": 167,
   "id": "fbdc52b6-9109-4830-8176-19cc4199c9e5",
   "metadata": {},
   "outputs": [],
   "source": [
    "#定义状态和节点函数\n",
    "class State(TypedDict):\n",
    "    query: str\n",
    "    destination: RouteQuery\n",
    "    answer: str\n",
    "\n",
    "async def route_query(state: State, config: RunnableConfig):\n",
    "    destination = await route_chain.ainvoke(state[\"query\"], config)\n",
    "    return {\"destination\": destination}\n",
    "\n",
    "async def prompt_1(state: State, config: RunnableConfig):\n",
    "    return {\"answer\": await chain_1.ainvoke(state[\"query\"], config)}\n",
    "\n",
    "async def prompt_2(state: State, config: RunnableConfig):\n",
    "    return {\"answer\": await chain_2.ainvoke(state[\"query\"], config)}"
   ]
  },
  {
   "cell_type": "code",
   "execution_count": 172,
   "id": "036a15c8-1c43-4984-bde3-b985abdaf1d3",
   "metadata": {},
   "outputs": [],
   "source": [
    "#定义条件分支逻辑\n",
    "def select_node(state: State) ->Literal[\"prompt_1\", \"prompt_2\"]:\n",
    "    \"\"\"\n",
    "    Literal 是 Python 的 typing 模块中的一个工具，\n",
    "    用于限制变量或返回值只能是某些特定的值。\n",
    "    \"\"\"\n",
    "    if state[\"destination\"] == \"animal\":\n",
    "        return \"prompt_1\"\n",
    "    else:\n",
    "        return \"prompt_2\""
   ]
  },
  {
   "cell_type": "code",
   "execution_count": 169,
   "id": "57ddad41-966d-4921-b9bb-90d25d13a1b9",
   "metadata": {},
   "outputs": [],
   "source": [
    "#组装状态图\n",
    "graph = StateGraph(State)\n",
    "graph.add_node(\"route_query\", route_query)\n",
    "graph.add_node(\"prompt_1\", prompt_1)\n",
    "graph.add_node(\"prompt_2\", prompt_2)\n",
    "\n",
    "graph.add_edge(START, \"route_query\")\n",
    "graph.add_conditional_edges(\"route_query\", select_node)\n",
    "graph.add_edge(\"prompt_1\", END)\n",
    "graph.add_edge(\"prompt_2\", END)\n",
    "\n",
    "app = graph.compile()"
   ]
  },
  {
   "cell_type": "code",
   "execution_count": 170,
   "id": "4a01feac-1b5a-4f94-a69d-7848ba9b2a01",
   "metadata": {
    "collapsed": true,
    "jupyter": {
     "outputs_hidden": true
    }
   },
   "outputs": [
    {
     "name": "stdout",
     "output_type": "stream",
     "text": [
      "猫科动物（Felidae）是一类主要包括猫的肉食性哺乳动物。它们通常被分为大猫和小猫两类。以下是一些常见的猫科动物：\n",
      "\n",
      "1. **大猫**：\n",
      "   - **狮子**（Panthera leo）\n",
      "   - **老虎**（Panthera tigris）\n",
      "   - **豹**（Panthera pardus）\n",
      "   - **美洲豹**（Panthera onca）\n",
      "   - **雪豹**（Panthera uncia）\n",
      "   - **云豹**（Neofelis nebulosa）\n",
      "\n",
      "2. **小猫**：\n",
      "   - **家猫**（Felis catus）\n",
      "   - **野猫**（Felis silvestris）\n",
      "   - **山猫**（Lynx rufus）\n",
      "   - **猞猁**（Lynx canadensis）\n",
      "   - **沙猫**（Felis margarita）\n",
      "   - **黑足猫**（Felis nigripes）\n",
      "\n",
      "猫科动物通常具有敏捷的身体和强大的捕猎能力，它们的栖息地和习性各异，分布广泛。\n",
      "胡萝卜是一种营养丰富的蔬菜，富含多种维生素和矿物质。以下是胡萝卜的主要营养价值：\n",
      "\n",
      "1. **β-胡萝卜素**：胡萝卜含有丰富的β-胡萝卜素，它是一种抗氧化剂，可以在体内转化为维生素A，有助于维持良好的视力、皮肤健康和免疫功能。\n",
      "\n",
      "2. **维生素**：胡萝卜是维生素K1、维生素C和维生素B6的良好来源，这些维生素对血液凝固、免疫系统和新陈代谢等方面至关重要。\n",
      "\n",
      "3. **矿物质**：胡萝卜含有一些重要的矿物质，如钾和锰。钾有助于维持心脏健康和血压平衡，而锰则与代谢和骨骼健康有关。\n",
      "\n",
      "4. **膳食纤维**：胡萝卜中含有一定量的膳食纤维，有助于消化系统健康，促进肠道蠕动，并有助于维持饱腹感。\n",
      "\n",
      "5. **低热量**：胡萝卜的热量较低，适合用于减肥和控制体重的饮食中。\n",
      "\n",
      "总体来说，胡萝卜是一种健康的蔬菜，可以生吃、蒸煮或加入各种菜肴中，既美味又营养。\n"
     ]
    }
   ],
   "source": [
    "#测试\n",
    "result = await app.ainvoke({\"query\": \"猫科动物有哪些？\"})\n",
    "print(result[\"answer\"])\n",
    "\n",
    "result = await app.ainvoke({\"query\": \"胡萝卜的营养价值是什么？\"})\n",
    "print(result[\"answer\"])"
   ]
  },
  {
   "cell_type": "code",
   "execution_count": 173,
   "id": "b3c9aa3d-bda4-43cb-837b-e5fb2593576b",
   "metadata": {},
   "outputs": [
    {
     "data": {
      "image/png": "[encoded data removed]",
      "text/plain": [
       "<IPython.core.display.Image object>"
      ]
     },
     "execution_count": 173,
     "metadata": {},
     "output_type": "execute_result"
    }
   ],
   "source": [
    "#显示图解\n",
    "from IPython.display import Image\n",
    "\n",
    "Image(app.get_graph().draw_mermaid_png())"
   ]
  },
  {
   "cell_type": "code",
   "execution_count": 175,
   "id": "b2b7e76a-1a5f-4b81-811f-dab8015c2fb7",
   "metadata": {},
   "outputs": [
    {
     "name": "stdout",
     "output_type": "stream",
     "text": [
      "{'destination': 'vegetable'}\n",
      "Carrots are most commonly associated with an orange color, but they can actually come in a variety of colors, including purple, red, yellow, and white. Each color may have slightly different flavors and nutritional profiles. The orange variety is the most popular and widely consumed, but the other colors are also available and can add visual interest to dishes.\n"
     ]
    }
   ],
   "source": [
    "#还可以这样调用链\n",
    "state = await app.ainvoke({\"query\": \"what color are carrots\"})\n",
    "print(state[\"destination\"])\n",
    "print(state[\"answer\"])"
   ]
  },
  {
   "cell_type": "code",
   "execution_count": null,
   "id": "550d3bb8-375b-428f-bc89-5541ad4d8974",
   "metadata": {},
   "outputs": [],
   "source": []
  }
 ],
 "metadata": {
  "kernelspec": {
   "display_name": "Python (myenv)",
   "language": "python",
   "name": "myenv"
  },
  "language_info": {
   "codemirror_mode": {
    "name": "ipython",
    "version": 3
   },
   "file_extension": ".py",
   "mimetype": "text/x-python",
   "name": "python",
   "nbconvert_exporter": "python",
   "pygments_lexer": "ipython3",
   "version": "3.12.9"
  }
 },
 "nbformat": 4,
 "nbformat_minor": 5
}
