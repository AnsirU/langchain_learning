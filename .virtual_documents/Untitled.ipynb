get_ipython().getoutput("pip install langchain_experimental")


get_ipython().getoutput("pip install numexpr")


get_ipython().getoutput("pip install wikipedia")


from langchain_experimental.agents.agent_toolkits import create_python_agent
from langchain.agents import load_tools, initialize_agent, create_tool_calling_agent
from langchain.agents import AgentType, AgentExecutor
from langchain_experimental.tools import PythonREPLTool
from langchain_openai import AzureChatOpenAI
from langchain_core.prompts import ChatPromptTemplate


llm = AzureChatOpenAI(
    api_key="a4982552aedf4162b7582ce9c31aa977",
    azure_endpoint="https://pcg-east-us-2.openai.azure.com/",
    openai_api_version="2024-08-01-preview", 
    deployment_name="gpt-4o-mini",
    model_name="gpt-4o-mini",
    temperature=0.0
)


tools = load_tools(['llm-math', 'wikipedia'], llm=llm)


"""定义一个AgentExecutor类，这里使用initialize_agent方法，
比AgentExecutor更傻瓜一点，initialize_agent底层应该也是调用了AgentType，
但是做了一些预定义。
"""
agent = initialize_agent(
    tools,
    llm,
    agent=AgentType.CHAT_ZERO_SHOT_REACT_DESCRIPTION,
    handle_parsing_errors=True,
    verbose=True
)


type(agent)


#agent作为一个AgentExecutor对象似乎可以直接输入文本来执行，似乎是自动调用__call__
#但是之后就不知道可不可以了
response=agent("What's is the 25% of 300?")
print(response)


query = "What's is the 25% of 300?"


#同时，用新增的invoke方法也可以进行执行，两者的效果一模一样
agent.invoke(query)


#这是一种自己customize AgentExecutor的实现
prompt = ChatPromptTemplate.from_messages(
    [
        ("system", "You are a helpful assistant"),
        ("human", "{input}"),
        # Placeholders fill up a **list** of messages
        ("placeholder", "{agent_scratchpad}"),
    ]
)
agent1 = create_tool_calling_agent(llm, tools, prompt)
agent_executor = AgentExecutor(agent=agent1, tools=tools, verbose=True)
agent_executor.invoke({"input":"1.1 and 1.08, which one is bigger?"})


#测试一下wikipedia api，使用initialize_agent构建的AgentExecutor似乎不太可行
#但是直接使用AgentExecutor就可以

question = "Who is China's president?"
agent_executor.invoke({"input":question})


#能进行python代码运行的agent
python_agent=create_python_agent(
    llm,
    tool=PythonREPLTool(),
    verbose=True
)
type(python_agent) #这里可以看到create_python_agent同样也是定义了一个AgentExecutor


get_ipython().getoutput("pip install langchain_core")


""" 如果希望使用langsmith进行调试，就需要设置以下环境变量
    get_ipython().getoutput("set LANGCHAIN_TRACING_V2=true")
    get_ipython().getoutput("set LANGCHAIN_API_KEY=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")
"""
#当然也可以直接set_debug和set_verbose全局变量来打印详细执行过程
from langchain.globals import set_debug
set_debug(True)

python_agent.invoke("type(3.20)")
set_debug(False)





from langchain.agents import tool
from datetime import date


@tool
def time(text: str) -> str:
    """
    Returns todays date, use this for anyquestions related to knowing todays\
    date. The input should always be an empty string, and this function will\
    always return todays date - any date mathematics should occur outside\
    this function.
    """
    return str(date.today())


#基于AgentExecutor的标准实现
prompt = ChatPromptTemplate.from_messages(
    [
        ("system", "You are a helpful assistant"),
        ("human", "{input}"),
        # Placeholders fill up a **list** of messages
        ("placeholder", "{agent_scratchpad}"),
    ]
)
agent2 = create_tool_calling_agent(llm, [time], prompt)
date_agent = AgentExecutor(agent=agent2, tools=[time], verbose=True)
set_debug=True
date_agent.invoke({"input":"What day is it today?"})


date_agent1 = initialize_agent(
    [time],
    llm,
    agent=AgentType.CHAT_ZERO_SHOT_REACT_DESCRIPTION,
    handle_parsing_errors=True,
    verbose=True
)


date_agent1({"input":"What day is it today? Output in numeric format."})



