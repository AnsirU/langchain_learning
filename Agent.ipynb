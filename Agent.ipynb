{
 "cells": [
  {
   "cell_type": "code",
   "execution_count": 2,
   "id": "9e0afb3f-508c-43cd-941f-80830552b889",
   "metadata": {
    "collapsed": true,
    "jupyter": {
     "outputs_hidden": true
    },
    "scrolled": true
   },
   "outputs": [
    {
     "name": "stdout",
     "output_type": "stream",
     "text": [
      "Collecting langchain_experimental\n",
      "  Downloading langchain_experimental-0.3.4-py3-none-any.whl.metadata (1.7 kB)\n",
      "Requirement already satisfied: langchain-community<0.4.0,>=0.3.0 in d:\\anaconda\\envs\\myenv\\lib\\site-packages (from langchain_experimental) (0.3.18)\n",
      "Requirement already satisfied: langchain-core<0.4.0,>=0.3.28 in d:\\anaconda\\envs\\myenv\\lib\\site-packages (from langchain_experimental) (0.3.40)\n",
      "Requirement already satisfied: langchain<1.0.0,>=0.3.19 in d:\\anaconda\\envs\\myenv\\lib\\site-packages (from langchain-community<0.4.0,>=0.3.0->langchain_experimental) (0.3.19)\n",
      "Requirement already satisfied: SQLAlchemy<3,>=1.4 in d:\\anaconda\\envs\\myenv\\lib\\site-packages (from langchain-community<0.4.0,>=0.3.0->langchain_experimental) (2.0.38)\n",
      "Requirement already satisfied: requests<3,>=2 in d:\\anaconda\\envs\\myenv\\lib\\site-packages (from langchain-community<0.4.0,>=0.3.0->langchain_experimental) (2.32.3)\n",
      "Requirement already satisfied: PyYAML>=5.3 in d:\\anaconda\\envs\\myenv\\lib\\site-packages (from langchain-community<0.4.0,>=0.3.0->langchain_experimental) (6.0.2)\n",
      "Requirement already satisfied: aiohttp<4.0.0,>=3.8.3 in d:\\anaconda\\envs\\myenv\\lib\\site-packages (from langchain-community<0.4.0,>=0.3.0->langchain_experimental) (3.11.13)\n",
      "Requirement already satisfied: tenacity!=8.4.0,<10,>=8.1.0 in d:\\anaconda\\envs\\myenv\\lib\\site-packages (from langchain-community<0.4.0,>=0.3.0->langchain_experimental) (9.0.0)\n",
      "Requirement already satisfied: dataclasses-json<0.7,>=0.5.7 in d:\\anaconda\\envs\\myenv\\lib\\site-packages (from langchain-community<0.4.0,>=0.3.0->langchain_experimental) (0.6.7)\n",
      "Requirement already satisfied: pydantic-settings<3.0.0,>=2.4.0 in d:\\anaconda\\envs\\myenv\\lib\\site-packages (from langchain-community<0.4.0,>=0.3.0->langchain_experimental) (2.8.0)\n",
      "Requirement already satisfied: langsmith<0.4,>=0.1.125 in d:\\anaconda\\envs\\myenv\\lib\\site-packages (from langchain-community<0.4.0,>=0.3.0->langchain_experimental) (0.3.11)\n",
      "Requirement already satisfied: httpx-sse<1.0.0,>=0.4.0 in d:\\anaconda\\envs\\myenv\\lib\\site-packages (from langchain-community<0.4.0,>=0.3.0->langchain_experimental) (0.4.0)\n",
      "Requirement already satisfied: numpy<3,>=1.26.2 in d:\\anaconda\\envs\\myenv\\lib\\site-packages (from langchain-community<0.4.0,>=0.3.0->langchain_experimental) (2.2.3)\n",
      "Requirement already satisfied: jsonpatch<2.0,>=1.33 in d:\\anaconda\\envs\\myenv\\lib\\site-packages (from langchain-core<0.4.0,>=0.3.28->langchain_experimental) (1.33)\n",
      "Requirement already satisfied: packaging<25,>=23.2 in d:\\anaconda\\envs\\myenv\\lib\\site-packages (from langchain-core<0.4.0,>=0.3.28->langchain_experimental) (24.2)\n",
      "Requirement already satisfied: typing-extensions>=4.7 in d:\\anaconda\\envs\\myenv\\lib\\site-packages (from langchain-core<0.4.0,>=0.3.28->langchain_experimental) (4.12.2)\n",
      "Requirement already satisfied: pydantic<3.0.0,>=2.7.4 in d:\\anaconda\\envs\\myenv\\lib\\site-packages (from langchain-core<0.4.0,>=0.3.28->langchain_experimental) (2.10.6)\n",
      "Requirement already satisfied: aiohappyeyeballs>=2.3.0 in d:\\anaconda\\envs\\myenv\\lib\\site-packages (from aiohttp<4.0.0,>=3.8.3->langchain-community<0.4.0,>=0.3.0->langchain_experimental) (2.4.6)\n",
      "Requirement already satisfied: aiosignal>=1.1.2 in d:\\anaconda\\envs\\myenv\\lib\\site-packages (from aiohttp<4.0.0,>=3.8.3->langchain-community<0.4.0,>=0.3.0->langchain_experimental) (1.3.2)\n",
      "Requirement already satisfied: attrs>=17.3.0 in d:\\anaconda\\envs\\myenv\\lib\\site-packages (from aiohttp<4.0.0,>=3.8.3->langchain-community<0.4.0,>=0.3.0->langchain_experimental) (24.3.0)\n",
      "Requirement already satisfied: frozenlist>=1.1.1 in d:\\anaconda\\envs\\myenv\\lib\\site-packages (from aiohttp<4.0.0,>=3.8.3->langchain-community<0.4.0,>=0.3.0->langchain_experimental) (1.5.0)\n",
      "Requirement already satisfied: multidict<7.0,>=4.5 in d:\\anaconda\\envs\\myenv\\lib\\site-packages (from aiohttp<4.0.0,>=3.8.3->langchain-community<0.4.0,>=0.3.0->langchain_experimental) (6.1.0)\n",
      "Requirement already satisfied: propcache>=0.2.0 in d:\\anaconda\\envs\\myenv\\lib\\site-packages (from aiohttp<4.0.0,>=3.8.3->langchain-community<0.4.0,>=0.3.0->langchain_experimental) (0.3.0)\n",
      "Requirement already satisfied: yarl<2.0,>=1.17.0 in d:\\anaconda\\envs\\myenv\\lib\\site-packages (from aiohttp<4.0.0,>=3.8.3->langchain-community<0.4.0,>=0.3.0->langchain_experimental) (1.18.3)\n",
      "Requirement already satisfied: marshmallow<4.0.0,>=3.18.0 in d:\\anaconda\\envs\\myenv\\lib\\site-packages (from dataclasses-json<0.7,>=0.5.7->langchain-community<0.4.0,>=0.3.0->langchain_experimental) (3.26.1)\n",
      "Requirement already satisfied: typing-inspect<1,>=0.4.0 in d:\\anaconda\\envs\\myenv\\lib\\site-packages (from dataclasses-json<0.7,>=0.5.7->langchain-community<0.4.0,>=0.3.0->langchain_experimental) (0.9.0)\n",
      "Requirement already satisfied: jsonpointer>=1.9 in d:\\anaconda\\envs\\myenv\\lib\\site-packages (from jsonpatch<2.0,>=1.33->langchain-core<0.4.0,>=0.3.28->langchain_experimental) (3.0.0)\n",
      "Requirement already satisfied: langchain-text-splitters<1.0.0,>=0.3.6 in d:\\anaconda\\envs\\myenv\\lib\\site-packages (from langchain<1.0.0,>=0.3.19->langchain-community<0.4.0,>=0.3.0->langchain_experimental) (0.3.6)\n",
      "Requirement already satisfied: httpx<1,>=0.23.0 in d:\\anaconda\\envs\\myenv\\lib\\site-packages (from langsmith<0.4,>=0.1.125->langchain-community<0.4.0,>=0.3.0->langchain_experimental) (0.27.0)\n",
      "Requirement already satisfied: orjson<4.0.0,>=3.9.14 in d:\\anaconda\\envs\\myenv\\lib\\site-packages (from langsmith<0.4,>=0.1.125->langchain-community<0.4.0,>=0.3.0->langchain_experimental) (3.10.15)\n",
      "Requirement already satisfied: requests-toolbelt<2.0.0,>=1.0.0 in d:\\anaconda\\envs\\myenv\\lib\\site-packages (from langsmith<0.4,>=0.1.125->langchain-community<0.4.0,>=0.3.0->langchain_experimental) (1.0.0)\n",
      "Requirement already satisfied: zstandard<0.24.0,>=0.23.0 in d:\\anaconda\\envs\\myenv\\lib\\site-packages (from langsmith<0.4,>=0.1.125->langchain-community<0.4.0,>=0.3.0->langchain_experimental) (0.23.0)\n",
      "Requirement already satisfied: annotated-types>=0.6.0 in d:\\anaconda\\envs\\myenv\\lib\\site-packages (from pydantic<3.0.0,>=2.7.4->langchain-core<0.4.0,>=0.3.28->langchain_experimental) (0.7.0)\n",
      "Requirement already satisfied: pydantic-core==2.27.2 in d:\\anaconda\\envs\\myenv\\lib\\site-packages (from pydantic<3.0.0,>=2.7.4->langchain-core<0.4.0,>=0.3.28->langchain_experimental) (2.27.2)\n",
      "Requirement already satisfied: python-dotenv>=0.21.0 in d:\\anaconda\\envs\\myenv\\lib\\site-packages (from pydantic-settings<3.0.0,>=2.4.0->langchain-community<0.4.0,>=0.3.0->langchain_experimental) (1.0.1)\n",
      "Requirement already satisfied: charset-normalizer<4,>=2 in d:\\anaconda\\envs\\myenv\\lib\\site-packages (from requests<3,>=2->langchain-community<0.4.0,>=0.3.0->langchain_experimental) (3.3.2)\n",
      "Requirement already satisfied: idna<4,>=2.5 in d:\\anaconda\\envs\\myenv\\lib\\site-packages (from requests<3,>=2->langchain-community<0.4.0,>=0.3.0->langchain_experimental) (3.7)\n",
      "Requirement already satisfied: urllib3<3,>=1.21.1 in d:\\anaconda\\envs\\myenv\\lib\\site-packages (from requests<3,>=2->langchain-community<0.4.0,>=0.3.0->langchain_experimental) (2.3.0)\n",
      "Requirement already satisfied: certifi>=2017.4.17 in d:\\anaconda\\envs\\myenv\\lib\\site-packages (from requests<3,>=2->langchain-community<0.4.0,>=0.3.0->langchain_experimental) (2025.1.31)\n",
      "Requirement already satisfied: greenlet!=0.4.17 in d:\\anaconda\\envs\\myenv\\lib\\site-packages (from SQLAlchemy<3,>=1.4->langchain-community<0.4.0,>=0.3.0->langchain_experimental) (3.1.1)\n",
      "Requirement already satisfied: anyio in d:\\anaconda\\envs\\myenv\\lib\\site-packages (from httpx<1,>=0.23.0->langsmith<0.4,>=0.1.125->langchain-community<0.4.0,>=0.3.0->langchain_experimental) (4.6.2)\n",
      "Requirement already satisfied: httpcore==1.* in d:\\anaconda\\envs\\myenv\\lib\\site-packages (from httpx<1,>=0.23.0->langsmith<0.4,>=0.1.125->langchain-community<0.4.0,>=0.3.0->langchain_experimental) (1.0.2)\n",
      "Requirement already satisfied: sniffio in d:\\anaconda\\envs\\myenv\\lib\\site-packages (from httpx<1,>=0.23.0->langsmith<0.4,>=0.1.125->langchain-community<0.4.0,>=0.3.0->langchain_experimental) (1.3.0)\n",
      "Requirement already satisfied: h11<0.15,>=0.13 in d:\\anaconda\\envs\\myenv\\lib\\site-packages (from httpcore==1.*->httpx<1,>=0.23.0->langsmith<0.4,>=0.1.125->langchain-community<0.4.0,>=0.3.0->langchain_experimental) (0.14.0)\n",
      "Requirement already satisfied: mypy-extensions>=0.3.0 in d:\\anaconda\\envs\\myenv\\lib\\site-packages (from typing-inspect<1,>=0.4.0->dataclasses-json<0.7,>=0.5.7->langchain-community<0.4.0,>=0.3.0->langchain_experimental) (1.0.0)\n",
      "Downloading langchain_experimental-0.3.4-py3-none-any.whl (209 kB)\n",
      "Installing collected packages: langchain_experimental\n",
      "Successfully installed langchain_experimental-0.3.4\n"
     ]
    }
   ],
   "source": [
    "!pip install langchain_experimental"
   ]
  },
  {
   "cell_type": "code",
   "execution_count": 12,
   "id": "888ac276-295a-4866-983f-587b03252c57",
   "metadata": {
    "collapsed": true,
    "jupyter": {
     "outputs_hidden": true
    }
   },
   "outputs": [
    {
     "name": "stdout",
     "output_type": "stream",
     "text": [
      "Collecting numexpr\n",
      "  Downloading numexpr-2.10.2-cp312-cp312-win_amd64.whl.metadata (8.3 kB)\n",
      "Requirement already satisfied: numpy>=1.23.0 in d:\\anaconda\\envs\\myenv\\lib\\site-packages (from numexpr) (2.2.3)\n",
      "Downloading numexpr-2.10.2-cp312-cp312-win_amd64.whl (145 kB)\n",
      "Installing collected packages: numexpr\n",
      "Successfully installed numexpr-2.10.2\n"
     ]
    }
   ],
   "source": [
    "!pip install numexpr"
   ]
  },
  {
   "cell_type": "code",
   "execution_count": 15,
   "id": "52e6f237-de5e-49de-b98c-8d78be374f64",
   "metadata": {
    "collapsed": true,
    "jupyter": {
     "outputs_hidden": true
    }
   },
   "outputs": [
    {
     "name": "stdout",
     "output_type": "stream",
     "text": [
      "Collecting wikipedia\n",
      "  Downloading wikipedia-1.4.0.tar.gz (27 kB)\n",
      "  Preparing metadata (setup.py): started\n",
      "  Preparing metadata (setup.py): finished with status 'done'\n",
      "Requirement already satisfied: beautifulsoup4 in d:\\anaconda\\envs\\myenv\\lib\\site-packages (from wikipedia) (4.12.3)\n",
      "Requirement already satisfied: requests<3.0.0,>=2.0.0 in d:\\anaconda\\envs\\myenv\\lib\\site-packages (from wikipedia) (2.32.3)\n",
      "Requirement already satisfied: charset-normalizer<4,>=2 in d:\\anaconda\\envs\\myenv\\lib\\site-packages (from requests<3.0.0,>=2.0.0->wikipedia) (3.3.2)\n",
      "Requirement already satisfied: idna<4,>=2.5 in d:\\anaconda\\envs\\myenv\\lib\\site-packages (from requests<3.0.0,>=2.0.0->wikipedia) (3.7)\n",
      "Requirement already satisfied: urllib3<3,>=1.21.1 in d:\\anaconda\\envs\\myenv\\lib\\site-packages (from requests<3.0.0,>=2.0.0->wikipedia) (2.3.0)\n",
      "Requirement already satisfied: certifi>=2017.4.17 in d:\\anaconda\\envs\\myenv\\lib\\site-packages (from requests<3.0.0,>=2.0.0->wikipedia) (2025.1.31)\n",
      "Requirement already satisfied: soupsieve>1.2 in d:\\anaconda\\envs\\myenv\\lib\\site-packages (from beautifulsoup4->wikipedia) (2.5)\n",
      "Building wheels for collected packages: wikipedia\n",
      "  Building wheel for wikipedia (setup.py): started\n",
      "  Building wheel for wikipedia (setup.py): finished with status 'done'\n",
      "  Created wheel for wikipedia: filename=wikipedia-1.4.0-py3-none-any.whl size=11756 sha256=06bb4ea2b1a1eaa5bd20c591cbf5e0571b436acbbee6fd8437410dd6f42a09dd\n",
      "  Stored in directory: c:\\users\\huawei\\appdata\\local\\pip\\cache\\wheels\\63\\47\\7c\\a9688349aa74d228ce0a9023229c6c0ac52ca2a40fe87679b8\n",
      "Successfully built wikipedia\n",
      "Installing collected packages: wikipedia\n",
      "Successfully installed wikipedia-1.4.0\n"
     ]
    }
   ],
   "source": [
    "!pip install wikipedia"
   ]
  },
  {
   "cell_type": "code",
   "execution_count": 38,
   "id": "2518d873-d81c-452f-97ec-b0eef69302f3",
   "metadata": {},
   "outputs": [],
   "source": [
    "from langchain_experimental.agents.agent_toolkits import create_python_agent\n",
    "from langchain.agents import load_tools, initialize_agent, create_tool_calling_agent\n",
    "from langchain.agents import AgentType, AgentExecutor\n",
    "from langchain_experimental.tools import PythonREPLTool\n",
    "from langchain_openai import AzureChatOpenAI\n",
    "from langchain_core.prompts import ChatPromptTemplate"
   ]
  },
  {
   "cell_type": "code",
   "execution_count": 10,
   "id": "2264002d-a411-469f-bf7d-ed7cd15ab771",
   "metadata": {},
   "outputs": [],
   "source": [
    "llm = AzureChatOpenAI(\n",
    "    api_key=\"                   \",\n",
    "    azure_endpoint=\"              \",\n",
    "    openai_api_version=\"                     \", \n",
    "    deployment_name=\"gpt-4o-mini\",\n",
    "    model_name=\"gpt-4o-mini\",\n",
    "    temperature=0.0\n",
    ")"
   ]
  },
  {
   "cell_type": "code",
   "execution_count": 16,
   "id": "9f8b875d-eef8-4baf-ae90-f7cfaae49a3e",
   "metadata": {},
   "outputs": [],
   "source": [
    "tools = load_tools(['llm-math', 'wikipedia'], llm=llm)"
   ]
  },
  {
   "cell_type": "code",
   "execution_count": 17,
   "id": "216f775e-590a-413a-aff6-f686549febca",
   "metadata": {},
   "outputs": [
    {
     "name": "stderr",
     "output_type": "stream",
     "text": [
      "C:\\Users\\HUAWEI\\AppData\\Local\\Temp\\ipykernel_27356\\2802621003.py:1: LangChainDeprecationWarning: LangChain agents will continue to be supported, but it is recommended for new use cases to be built with LangGraph. LangGraph offers a more flexible and full-featured framework for building agents, including support for tool-calling, persistence of state, and human-in-the-loop workflows. For details, refer to the `LangGraph documentation <https://langchain-ai.github.io/langgraph/>`_ as well as guides for `Migrating from AgentExecutor <https://python.langchain.com/docs/how_to/migrate_agent/>`_ and LangGraph's `Pre-built ReAct agent <https://langchain-ai.github.io/langgraph/how-tos/create-react-agent/>`_.\n",
      "  agent = initialize_agent(\n"
     ]
    }
   ],
   "source": [
    "\"\"\"定义一个AgentExecutor类，这里使用initialize_agent方法，\n",
    "比AgentExecutor更傻瓜一点，initialize_agent底层应该也是调用了AgentType，\n",
    "但是做了一些预定义。\n",
    "\"\"\"\n",
    "agent = initialize_agent(\n",
    "    tools,\n",
    "    llm,\n",
    "    agent=AgentType.CHAT_ZERO_SHOT_REACT_DESCRIPTION,\n",
    "    handle_parsing_errors=True,\n",
    "    verbose=True\n",
    ")"
   ]
  },
  {
   "cell_type": "code",
   "execution_count": 19,
   "id": "7d1d1c65-5453-4c21-9796-d9e6df3c6f73",
   "metadata": {},
   "outputs": [
    {
     "data": {
      "text/plain": [
       "langchain.agents.agent.AgentExecutor"
      ]
     },
     "execution_count": 19,
     "metadata": {},
     "output_type": "execute_result"
    }
   ],
   "source": [
    "type(agent)"
   ]
  },
  {
   "cell_type": "code",
   "execution_count": 26,
   "id": "5f3b5ec2-3883-4104-b030-533f7618f467",
   "metadata": {
    "collapsed": true,
    "jupyter": {
     "outputs_hidden": true
    }
   },
   "outputs": [
    {
     "name": "stdout",
     "output_type": "stream",
     "text": [
      "\n",
      "\n",
      "\u001b[1m> Entering new AgentExecutor chain...\u001b[0m\n",
      "\u001b[32;1m\u001b[1;3mThought: To find 25% of 300, I need to calculate 25/100 multiplied by 300. \n",
      "Action:\n",
      "```\n",
      "{\n",
      "  \"action\": \"Calculator\",\n",
      "  \"action_input\": \"25/100 * 300\"\n",
      "}\n",
      "```\n",
      "\u001b[0m\n",
      "Observation: \u001b[36;1m\u001b[1;3mAnswer: 75.0\u001b[0m\n",
      "\u001b[32;1m\u001b[1;3mI now know the final answer.  \n",
      "Final Answer: 75.0\u001b[0m\n",
      "\n",
      "\u001b[1m> Finished chain.\u001b[0m\n",
      "{'input': \"What's is the 25% of 300?\", 'output': '75.0'}\n"
     ]
    }
   ],
   "source": [
    "#agent作为一个AgentExecutor对象似乎可以直接输入文本来执行，似乎是自动调用__call__\n",
    "#但是之后就不知道可不可以了\n",
    "response=agent(\"What's is the 25% of 300?\")\n",
    "print(response)"
   ]
  },
  {
   "cell_type": "code",
   "execution_count": 20,
   "id": "aa38d4c6-86c8-44b5-bd39-0fa3bbe771cc",
   "metadata": {},
   "outputs": [],
   "source": [
    "query = \"What's is the 25% of 300?\""
   ]
  },
  {
   "cell_type": "code",
   "execution_count": 22,
   "id": "6d23f4a4-298b-41f1-94ef-902d04709567",
   "metadata": {},
   "outputs": [
    {
     "name": "stdout",
     "output_type": "stream",
     "text": [
      "\n",
      "\n",
      "\u001b[1m> Entering new AgentExecutor chain...\u001b[0m\n",
      "\u001b[32;1m\u001b[1;3mThought: To find 25% of 300, I can calculate it by multiplying 300 by 0.25. \n",
      "Action:\n",
      "```\n",
      "{\n",
      "  \"action\": \"Calculator\",\n",
      "  \"action_input\": \"300 * 0.25\"\n",
      "}\n",
      "```\n",
      "\u001b[0m\n",
      "Observation: \u001b[36;1m\u001b[1;3mAnswer: 75.0\u001b[0m\n",
      "\u001b[32;1m\u001b[1;3mI now know the final answer.  \n",
      "Final Answer: 75.0\u001b[0m\n",
      "\n",
      "\u001b[1m> Finished chain.\u001b[0m\n"
     ]
    },
    {
     "data": {
      "text/plain": [
       "{'input': \"What's is the 25% of 300?\", 'output': '75.0'}"
      ]
     },
     "execution_count": 22,
     "metadata": {},
     "output_type": "execute_result"
    }
   ],
   "source": [
    "#同时，用新增的invoke方法也可以进行执行，两者的效果一模一样\n",
    "agent.invoke(query)"
   ]
  },
  {
   "cell_type": "code",
   "execution_count": 42,
   "id": "73913884-cd85-4f5d-816a-26ff5b1c821c",
   "metadata": {
    "collapsed": true,
    "jupyter": {
     "outputs_hidden": true
    }
   },
   "outputs": [
    {
     "name": "stdout",
     "output_type": "stream",
     "text": [
      "\n",
      "\n",
      "\u001b[1m> Entering new AgentExecutor chain...\u001b[0m\n",
      "\u001b[32;1m\u001b[1;3m\n",
      "Invoking: `Calculator` with `1.1 > 1.08`\n",
      "\n",
      "\n",
      "\u001b[36;1m\u001b[1;3mAnswer: True\u001b[0m\u001b[32;1m\u001b[1;3m1.1 is bigger than 1.08.\u001b[0m\n",
      "\n",
      "\u001b[1m> Finished chain.\u001b[0m\n"
     ]
    },
    {
     "data": {
      "text/plain": [
       "{'input': '1.1 and 1.08, which one is bigger?',\n",
       " 'output': '1.1 is bigger than 1.08.'}"
      ]
     },
     "execution_count": 42,
     "metadata": {},
     "output_type": "execute_result"
    }
   ],
   "source": [
    "#这是一种自己customize AgentExecutor的实现\n",
    "prompt = ChatPromptTemplate.from_messages(\n",
    "    [\n",
    "        (\"system\", \"You are a helpful assistant\"),\n",
    "        (\"human\", \"{input}\"),\n",
    "        # Placeholders fill up a **list** of messages\n",
    "        (\"placeholder\", \"{agent_scratchpad}\"),\n",
    "    ]\n",
    ")\n",
    "agent1 = create_tool_calling_agent(llm, tools, prompt)\n",
    "agent_executor = AgentExecutor(agent=agent1, tools=tools, verbose=True)\n",
    "agent_executor.invoke({\"input\":\"1.1 and 1.08, which one is bigger?\"})"
   ]
  },
  {
   "cell_type": "code",
   "execution_count": 51,
   "id": "a4ca85d7-2e3e-46e8-8710-c0765ee3e381",
   "metadata": {
    "scrolled": true
   },
   "outputs": [
    {
     "name": "stdout",
     "output_type": "stream",
     "text": [
      "\n",
      "\n",
      "\u001b[1m> Entering new AgentExecutor chain...\u001b[0m\n",
      "\u001b[32;1m\u001b[1;3m\n",
      "Invoking: `wikipedia` with `{'query': 'President of China'}`\n",
      "\n",
      "\n",
      "\u001b[33;1m\u001b[1;3mPage: President of China\n",
      "Summary: The president of China, officially the president of the People's Republic of China, is the state representative of the People's Republic of China. On its own, it is a ceremonial office and has no real power in China's political system. While the office has many of the characteristics of a head of state, the Constitution of China does not define it as such. However, since 1993, the post has been held by the general secretary of the Chinese Communist Party (CCP) and chairman of the Central Military Commission, who is China's paramount leader.\n",
      "The presidency is a part of the system of people's congress based on the principle of unified power in which the National People's Congress (NPC) functions as the only branch of government and as the highest state organ of power. The presidency is a state organ of the NPC and equivalent to, for instance, the State Council and the National Supervisory Commission, rather than a political office, unlike the premier of the State Council. Together with the NPC Standing Committee, the presidency performs certain heads of state functions. The president can engage in state affairs with the consent of the NPC Standing Committee. While the presidency is not a powerful organ in itself, since 27 March 1993, the president has concurrently served as general secretary of the Central Committee of the Chinese Communist Party (CCP) and chairman of the Central Military Commission (CMC), making the incumbent China's paramount leader and commander-in-chief.\n",
      "The first state representative of China dates back to the Republican era when the post was held by Sun Yat-sen upon the establishment of the Republic on 1 January 1912. The presidency in its current form was the chairman of the Central People's Government of the People's Republic of China, which was established on 1 October 1949 by a decision of the Chinese People's Political Consultative Conference. It was replaced in Constitution in 1954 with the office of state chairman. It was successively held by Mao Zedong and Liu Shaoqi. Liu fell into political disgrace during the Cultural Revolution, after which the presidency became vacant. The post of chairman was abolished under the Constitution of 1975, and the function of state representative was bestowed on the chairman of the NPC Standing Committee. The office was reinstated in the Constitution of 1982 but with reduced powers and a stipulation that the president could not serve more than two consecutive terms. The term limits were abolished in 2018. Since 1982, the title's official English-language translation has been \"president\", although the Chinese title remains unchanged.\n",
      "\n",
      "Page: List of presidents of China\n",
      "Summary: This is a list of the heads of state of the Republic of China (ROC) since 1912 and the state representatives of the People's Republic of China (PRC) since 1949.\n",
      "\n",
      "\n",
      "\n",
      "Page: President of the Republic of China\n",
      "Summary: The president of the Republic of China, also known as the president of Taiwan, is the head of state of the Republic of China, commonly known as Taiwan, as well as the commander-in-chief of the Republic of China Armed Forces. Before 1949 the position had the authority of ruling over Mainland China, but after communist victory in the Chinese Civil War, the remaining jurisdictions of the ROC have been limited to Taiwan, Penghu, Kinmen, Matsu, and smaller islands.\n",
      "Originally elected by the National Assembly, the presidency was intended to be a ceremonial office with no real executive power because the ROC was originally envisioned as a parliamentary republic. Since the 1996 election however, the president has been directly elected by plurality voting to a four-year term, with incumbents limited to serving two terms. The current president is Lai Ching-te of the Democratic Progressive Party, preceded by Tsai Ing-wen from the same party.\n",
      "\n",
      "\u001b[32;1m\u001b[1;3mThe current president of China is Xi Jinping. He has held the position since March 27, 1993, and also serves as the General Secretary of the Chinese Communist Party and Chairman of the Central Military Commission, making him China's paramount leader.\u001b[0m\n",
      "\n",
      "\u001b[1m> Finished chain.\u001b[0m\n"
     ]
    },
    {
     "data": {
      "text/plain": [
       "{'input': \"Who is China's president?\",\n",
       " 'output': \"The current president of China is Xi Jinping. He has held the position since March 27, 1993, and also serves as the General Secretary of the Chinese Communist Party and Chairman of the Central Military Commission, making him China's paramount leader.\"}"
      ]
     },
     "execution_count": 51,
     "metadata": {},
     "output_type": "execute_result"
    }
   ],
   "source": [
    "#测试一下wikipedia api，使用initialize_agent构建的AgentExecutor似乎不太可行\n",
    "#但是直接使用AgentExecutor就可以\n",
    "\n",
    "question = \"Who is China's president?\"\n",
    "agent_executor.invoke({\"input\":question})"
   ]
  },
  {
   "cell_type": "code",
   "execution_count": 56,
   "id": "1b3ff018-ad1e-4df9-9a56-0f730f1026c0",
   "metadata": {},
   "outputs": [
    {
     "data": {
      "text/plain": [
       "langchain.agents.agent.AgentExecutor"
      ]
     },
     "execution_count": 56,
     "metadata": {},
     "output_type": "execute_result"
    }
   ],
   "source": [
    "#能进行python代码运行的agent\n",
    "python_agent=create_python_agent(\n",
    "    llm,\n",
    "    tool=PythonREPLTool(),\n",
    "    verbose=True\n",
    ")\n",
    "type(python_agent) #这里可以看到create_python_agent同样也是定义了一个AgentExecutor"
   ]
  },
  {
   "cell_type": "code",
   "execution_count": 66,
   "id": "ea78f25e-2d18-4871-9086-17680f28f63a",
   "metadata": {
    "collapsed": true,
    "jupyter": {
     "outputs_hidden": true
    },
    "scrolled": true
   },
   "outputs": [
    {
     "name": "stdout",
     "output_type": "stream",
     "text": [
      "Requirement already satisfied: langchain_core in d:\\anaconda\\envs\\myenv\\lib\\site-packages (0.3.40)\n",
      "Requirement already satisfied: langsmith<0.4,>=0.1.125 in d:\\anaconda\\envs\\myenv\\lib\\site-packages (from langchain_core) (0.3.11)\n",
      "Requirement already satisfied: tenacity!=8.4.0,<10.0.0,>=8.1.0 in d:\\anaconda\\envs\\myenv\\lib\\site-packages (from langchain_core) (9.0.0)\n",
      "Requirement already satisfied: jsonpatch<2.0,>=1.33 in d:\\anaconda\\envs\\myenv\\lib\\site-packages (from langchain_core) (1.33)\n",
      "Requirement already satisfied: PyYAML>=5.3 in d:\\anaconda\\envs\\myenv\\lib\\site-packages (from langchain_core) (6.0.2)\n",
      "Requirement already satisfied: packaging<25,>=23.2 in d:\\anaconda\\envs\\myenv\\lib\\site-packages (from langchain_core) (24.2)\n",
      "Requirement already satisfied: typing-extensions>=4.7 in d:\\anaconda\\envs\\myenv\\lib\\site-packages (from langchain_core) (4.12.2)\n",
      "Requirement already satisfied: pydantic<3.0.0,>=2.7.4 in d:\\anaconda\\envs\\myenv\\lib\\site-packages (from langchain_core) (2.10.6)\n",
      "Requirement already satisfied: jsonpointer>=1.9 in d:\\anaconda\\envs\\myenv\\lib\\site-packages (from jsonpatch<2.0,>=1.33->langchain_core) (3.0.0)\n",
      "Requirement already satisfied: httpx<1,>=0.23.0 in d:\\anaconda\\envs\\myenv\\lib\\site-packages (from langsmith<0.4,>=0.1.125->langchain_core) (0.27.0)\n",
      "Requirement already satisfied: orjson<4.0.0,>=3.9.14 in d:\\anaconda\\envs\\myenv\\lib\\site-packages (from langsmith<0.4,>=0.1.125->langchain_core) (3.10.15)\n",
      "Requirement already satisfied: requests<3,>=2 in d:\\anaconda\\envs\\myenv\\lib\\site-packages (from langsmith<0.4,>=0.1.125->langchain_core) (2.32.3)\n",
      "Requirement already satisfied: requests-toolbelt<2.0.0,>=1.0.0 in d:\\anaconda\\envs\\myenv\\lib\\site-packages (from langsmith<0.4,>=0.1.125->langchain_core) (1.0.0)\n",
      "Requirement already satisfied: zstandard<0.24.0,>=0.23.0 in d:\\anaconda\\envs\\myenv\\lib\\site-packages (from langsmith<0.4,>=0.1.125->langchain_core) (0.23.0)\n",
      "Requirement already satisfied: annotated-types>=0.6.0 in d:\\anaconda\\envs\\myenv\\lib\\site-packages (from pydantic<3.0.0,>=2.7.4->langchain_core) (0.7.0)\n",
      "Requirement already satisfied: pydantic-core==2.27.2 in d:\\anaconda\\envs\\myenv\\lib\\site-packages (from pydantic<3.0.0,>=2.7.4->langchain_core) (2.27.2)\n",
      "Requirement already satisfied: anyio in d:\\anaconda\\envs\\myenv\\lib\\site-packages (from httpx<1,>=0.23.0->langsmith<0.4,>=0.1.125->langchain_core) (4.6.2)\n",
      "Requirement already satisfied: certifi in d:\\anaconda\\envs\\myenv\\lib\\site-packages (from httpx<1,>=0.23.0->langsmith<0.4,>=0.1.125->langchain_core) (2025.1.31)\n",
      "Requirement already satisfied: httpcore==1.* in d:\\anaconda\\envs\\myenv\\lib\\site-packages (from httpx<1,>=0.23.0->langsmith<0.4,>=0.1.125->langchain_core) (1.0.2)\n",
      "Requirement already satisfied: idna in d:\\anaconda\\envs\\myenv\\lib\\site-packages (from httpx<1,>=0.23.0->langsmith<0.4,>=0.1.125->langchain_core) (3.7)\n",
      "Requirement already satisfied: sniffio in d:\\anaconda\\envs\\myenv\\lib\\site-packages (from httpx<1,>=0.23.0->langsmith<0.4,>=0.1.125->langchain_core) (1.3.0)\n",
      "Requirement already satisfied: h11<0.15,>=0.13 in d:\\anaconda\\envs\\myenv\\lib\\site-packages (from httpcore==1.*->httpx<1,>=0.23.0->langsmith<0.4,>=0.1.125->langchain_core) (0.14.0)\n",
      "Requirement already satisfied: charset-normalizer<4,>=2 in d:\\anaconda\\envs\\myenv\\lib\\site-packages (from requests<3,>=2->langsmith<0.4,>=0.1.125->langchain_core) (3.3.2)\n",
      "Requirement already satisfied: urllib3<3,>=1.21.1 in d:\\anaconda\\envs\\myenv\\lib\\site-packages (from requests<3,>=2->langsmith<0.4,>=0.1.125->langchain_core) (2.3.0)\n"
     ]
    }
   ],
   "source": [
    "!pip install langchain_core"
   ]
  },
  {
   "cell_type": "code",
   "execution_count": 71,
   "id": "5d224e28-a4d2-4190-a9fb-bd386c182f67",
   "metadata": {
    "collapsed": true,
    "jupyter": {
     "outputs_hidden": true
    },
    "scrolled": true
   },
   "outputs": [
    {
     "name": "stdout",
     "output_type": "stream",
     "text": [
      "\u001b[32;1m\u001b[1;3m[chain/start]\u001b[0m \u001b[1m[chain:AgentExecutor] Entering Chain run with input:\n",
      "\u001b[0m{\n",
      "  \"input\": \"type(3.20)\"\n",
      "}\n",
      "\u001b[32;1m\u001b[1;3m[chain/start]\u001b[0m \u001b[1m[chain:AgentExecutor > chain:LLMChain] Entering Chain run with input:\n",
      "\u001b[0m{\n",
      "  \"input\": \"type(3.20)\",\n",
      "  \"agent_scratchpad\": \"\",\n",
      "  \"stop\": [\n",
      "    \"\\nObservation:\",\n",
      "    \"\\n\\tObservation:\"\n",
      "  ]\n",
      "}\n",
      "\u001b[32;1m\u001b[1;3m[llm/start]\u001b[0m \u001b[1m[chain:AgentExecutor > chain:LLMChain > llm:AzureChatOpenAI] Entering LLM run with input:\n",
      "\u001b[0m{\n",
      "  \"prompts\": [\n",
      "    \"Human: You are an agent designed to write and execute python code to answer questions.\\nYou have access to a python REPL, which you can use to execute python code.\\nIf you get an error, debug your code and try again.\\nOnly use the output of your code to answer the question. \\nYou might know the answer without running any code, but you should still run the code to get the answer.\\nIf it does not seem like you can write code to answer the question, just return \\\"I don't know\\\" as the answer.\\n\\n\\nPython_REPL - A Python shell. Use this to execute python commands. Input should be a valid python command. If you want to see the output of a value, you should print it out with `print(...)`.\\n\\nUse the following format:\\n\\nQuestion: the input question you must answer\\nThought: you should always think about what to do\\nAction: the action to take, should be one of [Python_REPL]\\nAction Input: the input to the action\\nObservation: the result of the action\\n... (this Thought/Action/Action Input/Observation can repeat N times)\\nThought: I now know the final answer\\nFinal Answer: the final answer to the original input question\\n\\nBegin!\\n\\nQuestion: type(3.20)\\nThought:\"\n",
      "  ]\n",
      "}\n",
      "\u001b[36;1m\u001b[1;3m[llm/end]\u001b[0m \u001b[1m[chain:AgentExecutor > chain:LLMChain > llm:AzureChatOpenAI] [1.68s] Exiting LLM run with output:\n",
      "\u001b[0m{\n",
      "  \"generations\": [\n",
      "    [\n",
      "      {\n",
      "        \"text\": \"I need to determine the type of the number 3.20 in Python. I will use the `type()` function to find out what it is. \\nAction: Python_REPL\\nAction Input: type(3.20)\",\n",
      "        \"generation_info\": {\n",
      "          \"finish_reason\": \"stop\",\n",
      "          \"logprobs\": null,\n",
      "          \"content_filter_results\": {\n",
      "            \"hate\": {\n",
      "              \"filtered\": false,\n",
      "              \"severity\": \"safe\"\n",
      "            },\n",
      "            \"self_harm\": {\n",
      "              \"filtered\": false,\n",
      "              \"severity\": \"safe\"\n",
      "            },\n",
      "            \"sexual\": {\n",
      "              \"filtered\": false,\n",
      "              \"severity\": \"safe\"\n",
      "            },\n",
      "            \"violence\": {\n",
      "              \"filtered\": false,\n",
      "              \"severity\": \"safe\"\n",
      "            }\n",
      "          }\n",
      "        },\n",
      "        \"type\": \"ChatGeneration\",\n",
      "        \"message\": {\n",
      "          \"lc\": 1,\n",
      "          \"type\": \"constructor\",\n",
      "          \"id\": [\n",
      "            \"langchain\",\n",
      "            \"schema\",\n",
      "            \"messages\",\n",
      "            \"AIMessage\"\n",
      "          ],\n",
      "          \"kwargs\": {\n",
      "            \"content\": \"I need to determine the type of the number 3.20 in Python. I will use the `type()` function to find out what it is. \\nAction: Python_REPL\\nAction Input: type(3.20)\",\n",
      "            \"additional_kwargs\": {\n",
      "              \"refusal\": null\n",
      "            },\n",
      "            \"response_metadata\": {\n",
      "              \"token_usage\": {\n",
      "                \"completion_tokens\": 47,\n",
      "                \"prompt_tokens\": 265,\n",
      "                \"total_tokens\": 312,\n",
      "                \"completion_tokens_details\": {\n",
      "                  \"accepted_prediction_tokens\": 0,\n",
      "                  \"audio_tokens\": 0,\n",
      "                  \"reasoning_tokens\": 0,\n",
      "                  \"rejected_prediction_tokens\": 0\n",
      "                },\n",
      "                \"prompt_tokens_details\": {\n",
      "                  \"audio_tokens\": 0,\n",
      "                  \"cached_tokens\": 0\n",
      "                }\n",
      "              },\n",
      "              \"model_name\": \"gpt-4o-mini-2024-07-18\",\n",
      "              \"system_fingerprint\": \"fp_b705f0c291\",\n",
      "              \"prompt_filter_results\": [\n",
      "                {\n",
      "                  \"prompt_index\": 0,\n",
      "                  \"content_filter_results\": {\n",
      "                    \"hate\": {\n",
      "                      \"filtered\": false,\n",
      "                      \"severity\": \"safe\"\n",
      "                    },\n",
      "                    \"jailbreak\": {\n",
      "                      \"filtered\": false,\n",
      "                      \"detected\": false\n",
      "                    },\n",
      "                    \"self_harm\": {\n",
      "                      \"filtered\": false,\n",
      "                      \"severity\": \"safe\"\n",
      "                    },\n",
      "                    \"sexual\": {\n",
      "                      \"filtered\": false,\n",
      "                      \"severity\": \"safe\"\n",
      "                    },\n",
      "                    \"violence\": {\n",
      "                      \"filtered\": false,\n",
      "                      \"severity\": \"safe\"\n",
      "                    }\n",
      "                  }\n",
      "                }\n",
      "              ],\n",
      "              \"finish_reason\": \"stop\",\n",
      "              \"logprobs\": null,\n",
      "              \"content_filter_results\": {\n",
      "                \"hate\": {\n",
      "                  \"filtered\": false,\n",
      "                  \"severity\": \"safe\"\n",
      "                },\n",
      "                \"self_harm\": {\n",
      "                  \"filtered\": false,\n",
      "                  \"severity\": \"safe\"\n",
      "                },\n",
      "                \"sexual\": {\n",
      "                  \"filtered\": false,\n",
      "                  \"severity\": \"safe\"\n",
      "                },\n",
      "                \"violence\": {\n",
      "                  \"filtered\": false,\n",
      "                  \"severity\": \"safe\"\n",
      "                }\n",
      "              }\n",
      "            },\n",
      "            \"type\": \"ai\",\n",
      "            \"id\": \"run-273144ec-f9a5-4599-ac1e-eb53004f02d7-0\",\n",
      "            \"usage_metadata\": {\n",
      "              \"input_tokens\": 265,\n",
      "              \"output_tokens\": 47,\n",
      "              \"total_tokens\": 312,\n",
      "              \"input_token_details\": {\n",
      "                \"audio\": 0,\n",
      "                \"cache_read\": 0\n",
      "              },\n",
      "              \"output_token_details\": {\n",
      "                \"audio\": 0,\n",
      "                \"reasoning\": 0\n",
      "              }\n",
      "            },\n",
      "            \"tool_calls\": [],\n",
      "            \"invalid_tool_calls\": []\n",
      "          }\n",
      "        }\n",
      "      }\n",
      "    ]\n",
      "  ],\n",
      "  \"llm_output\": {\n",
      "    \"token_usage\": {\n",
      "      \"completion_tokens\": 47,\n",
      "      \"prompt_tokens\": 265,\n",
      "      \"total_tokens\": 312,\n",
      "      \"completion_tokens_details\": {\n",
      "        \"accepted_prediction_tokens\": 0,\n",
      "        \"audio_tokens\": 0,\n",
      "        \"reasoning_tokens\": 0,\n",
      "        \"rejected_prediction_tokens\": 0\n",
      "      },\n",
      "      \"prompt_tokens_details\": {\n",
      "        \"audio_tokens\": 0,\n",
      "        \"cached_tokens\": 0\n",
      "      }\n",
      "    },\n",
      "    \"model_name\": \"gpt-4o-mini-2024-07-18\",\n",
      "    \"system_fingerprint\": \"fp_b705f0c291\",\n",
      "    \"prompt_filter_results\": [\n",
      "      {\n",
      "        \"prompt_index\": 0,\n",
      "        \"content_filter_results\": {\n",
      "          \"hate\": {\n",
      "            \"filtered\": false,\n",
      "            \"severity\": \"safe\"\n",
      "          },\n",
      "          \"jailbreak\": {\n",
      "            \"filtered\": false,\n",
      "            \"detected\": false\n",
      "          },\n",
      "          \"self_harm\": {\n",
      "            \"filtered\": false,\n",
      "            \"severity\": \"safe\"\n",
      "          },\n",
      "          \"sexual\": {\n",
      "            \"filtered\": false,\n",
      "            \"severity\": \"safe\"\n",
      "          },\n",
      "          \"violence\": {\n",
      "            \"filtered\": false,\n",
      "            \"severity\": \"safe\"\n",
      "          }\n",
      "        }\n",
      "      }\n",
      "    ]\n",
      "  },\n",
      "  \"run\": null,\n",
      "  \"type\": \"LLMResult\"\n",
      "}\n",
      "\u001b[36;1m\u001b[1;3m[chain/end]\u001b[0m \u001b[1m[chain:AgentExecutor > chain:LLMChain] [1.68s] Exiting Chain run with output:\n",
      "\u001b[0m{\n",
      "  \"text\": \"I need to determine the type of the number 3.20 in Python. I will use the `type()` function to find out what it is. \\nAction: Python_REPL\\nAction Input: type(3.20)\"\n",
      "}\n",
      "\u001b[32;1m\u001b[1;3m[tool/start]\u001b[0m \u001b[1m[chain:AgentExecutor > tool:Python_REPL] Entering Tool run with input:\n",
      "\u001b[0m\"type(3.20)\"\n",
      "\u001b[36;1m\u001b[1;3m[tool/end]\u001b[0m \u001b[1m[chain:AgentExecutor > tool:Python_REPL] [2ms] Exiting Tool run with output:\n",
      "\u001b[0m\"\"\n",
      "\u001b[32;1m\u001b[1;3m[chain/start]\u001b[0m \u001b[1m[chain:AgentExecutor > chain:LLMChain] Entering Chain run with input:\n",
      "\u001b[0m{\n",
      "  \"input\": \"type(3.20)\",\n",
      "  \"agent_scratchpad\": \"I need to determine the type of the number 3.20 in Python. I will use the `type()` function to find out what it is. \\nAction: Python_REPL\\nAction Input: type(3.20)\\nObservation: \\nThought:\",\n",
      "  \"stop\": [\n",
      "    \"\\nObservation:\",\n",
      "    \"\\n\\tObservation:\"\n",
      "  ]\n",
      "}\n",
      "\u001b[32;1m\u001b[1;3m[llm/start]\u001b[0m \u001b[1m[chain:AgentExecutor > chain:LLMChain > llm:AzureChatOpenAI] Entering LLM run with input:\n",
      "\u001b[0m{\n",
      "  \"prompts\": [\n",
      "    \"Human: You are an agent designed to write and execute python code to answer questions.\\nYou have access to a python REPL, which you can use to execute python code.\\nIf you get an error, debug your code and try again.\\nOnly use the output of your code to answer the question. \\nYou might know the answer without running any code, but you should still run the code to get the answer.\\nIf it does not seem like you can write code to answer the question, just return \\\"I don't know\\\" as the answer.\\n\\n\\nPython_REPL - A Python shell. Use this to execute python commands. Input should be a valid python command. If you want to see the output of a value, you should print it out with `print(...)`.\\n\\nUse the following format:\\n\\nQuestion: the input question you must answer\\nThought: you should always think about what to do\\nAction: the action to take, should be one of [Python_REPL]\\nAction Input: the input to the action\\nObservation: the result of the action\\n... (this Thought/Action/Action Input/Observation can repeat N times)\\nThought: I now know the final answer\\nFinal Answer: the final answer to the original input question\\n\\nBegin!\\n\\nQuestion: type(3.20)\\nThought:I need to determine the type of the number 3.20 in Python. I will use the `type()` function to find out what it is. \\nAction: Python_REPL\\nAction Input: type(3.20)\\nObservation: \\nThought:\"\n",
      "  ]\n",
      "}\n",
      "\u001b[36;1m\u001b[1;3m[llm/end]\u001b[0m \u001b[1m[chain:AgentExecutor > chain:LLMChain > llm:AzureChatOpenAI] [731ms] Exiting LLM run with output:\n",
      "\u001b[0m{\n",
      "  \"generations\": [\n",
      "    [\n",
      "      {\n",
      "        \"text\": \"I now know the final answer\\nFinal Answer: <class 'float'>\",\n",
      "        \"generation_info\": {\n",
      "          \"finish_reason\": \"stop\",\n",
      "          \"logprobs\": null,\n",
      "          \"content_filter_results\": {\n",
      "            \"hate\": {\n",
      "              \"filtered\": false,\n",
      "              \"severity\": \"safe\"\n",
      "            },\n",
      "            \"protected_material_code\": {\n",
      "              \"filtered\": false,\n",
      "              \"detected\": false\n",
      "            },\n",
      "            \"protected_material_text\": {\n",
      "              \"filtered\": false,\n",
      "              \"detected\": false\n",
      "            },\n",
      "            \"self_harm\": {\n",
      "              \"filtered\": false,\n",
      "              \"severity\": \"safe\"\n",
      "            },\n",
      "            \"sexual\": {\n",
      "              \"filtered\": false,\n",
      "              \"severity\": \"safe\"\n",
      "            },\n",
      "            \"violence\": {\n",
      "              \"filtered\": false,\n",
      "              \"severity\": \"safe\"\n",
      "            }\n",
      "          }\n",
      "        },\n",
      "        \"type\": \"ChatGeneration\",\n",
      "        \"message\": {\n",
      "          \"lc\": 1,\n",
      "          \"type\": \"constructor\",\n",
      "          \"id\": [\n",
      "            \"langchain\",\n",
      "            \"schema\",\n",
      "            \"messages\",\n",
      "            \"AIMessage\"\n",
      "          ],\n",
      "          \"kwargs\": {\n",
      "            \"content\": \"I now know the final answer\\nFinal Answer: <class 'float'>\",\n",
      "            \"additional_kwargs\": {\n",
      "              \"refusal\": null\n",
      "            },\n",
      "            \"response_metadata\": {\n",
      "              \"token_usage\": {\n",
      "                \"completion_tokens\": 15,\n",
      "                \"prompt_tokens\": 316,\n",
      "                \"total_tokens\": 331,\n",
      "                \"completion_tokens_details\": {\n",
      "                  \"accepted_prediction_tokens\": 0,\n",
      "                  \"audio_tokens\": 0,\n",
      "                  \"reasoning_tokens\": 0,\n",
      "                  \"rejected_prediction_tokens\": 0\n",
      "                },\n",
      "                \"prompt_tokens_details\": {\n",
      "                  \"audio_tokens\": 0,\n",
      "                  \"cached_tokens\": 0\n",
      "                }\n",
      "              },\n",
      "              \"model_name\": \"gpt-4o-mini-2024-07-18\",\n",
      "              \"system_fingerprint\": \"fp_b705f0c291\",\n",
      "              \"prompt_filter_results\": [\n",
      "                {\n",
      "                  \"prompt_index\": 0,\n",
      "                  \"content_filter_results\": {\n",
      "                    \"hate\": {\n",
      "                      \"filtered\": false,\n",
      "                      \"severity\": \"safe\"\n",
      "                    },\n",
      "                    \"jailbreak\": {\n",
      "                      \"filtered\": false,\n",
      "                      \"detected\": false\n",
      "                    },\n",
      "                    \"self_harm\": {\n",
      "                      \"filtered\": false,\n",
      "                      \"severity\": \"safe\"\n",
      "                    },\n",
      "                    \"sexual\": {\n",
      "                      \"filtered\": false,\n",
      "                      \"severity\": \"safe\"\n",
      "                    },\n",
      "                    \"violence\": {\n",
      "                      \"filtered\": false,\n",
      "                      \"severity\": \"safe\"\n",
      "                    }\n",
      "                  }\n",
      "                }\n",
      "              ],\n",
      "              \"finish_reason\": \"stop\",\n",
      "              \"logprobs\": null,\n",
      "              \"content_filter_results\": {\n",
      "                \"hate\": {\n",
      "                  \"filtered\": false,\n",
      "                  \"severity\": \"safe\"\n",
      "                },\n",
      "                \"protected_material_code\": {\n",
      "                  \"filtered\": false,\n",
      "                  \"detected\": false\n",
      "                },\n",
      "                \"protected_material_text\": {\n",
      "                  \"filtered\": false,\n",
      "                  \"detected\": false\n",
      "                },\n",
      "                \"self_harm\": {\n",
      "                  \"filtered\": false,\n",
      "                  \"severity\": \"safe\"\n",
      "                },\n",
      "                \"sexual\": {\n",
      "                  \"filtered\": false,\n",
      "                  \"severity\": \"safe\"\n",
      "                },\n",
      "                \"violence\": {\n",
      "                  \"filtered\": false,\n",
      "                  \"severity\": \"safe\"\n",
      "                }\n",
      "              }\n",
      "            },\n",
      "            \"type\": \"ai\",\n",
      "            \"id\": \"run-ade1e911-9b4e-4abd-8110-9661fe11195f-0\",\n",
      "            \"usage_metadata\": {\n",
      "              \"input_tokens\": 316,\n",
      "              \"output_tokens\": 15,\n",
      "              \"total_tokens\": 331,\n",
      "              \"input_token_details\": {\n",
      "                \"audio\": 0,\n",
      "                \"cache_read\": 0\n",
      "              },\n",
      "              \"output_token_details\": {\n",
      "                \"audio\": 0,\n",
      "                \"reasoning\": 0\n",
      "              }\n",
      "            },\n",
      "            \"tool_calls\": [],\n",
      "            \"invalid_tool_calls\": []\n",
      "          }\n",
      "        }\n",
      "      }\n",
      "    ]\n",
      "  ],\n",
      "  \"llm_output\": {\n",
      "    \"token_usage\": {\n",
      "      \"completion_tokens\": 15,\n",
      "      \"prompt_tokens\": 316,\n",
      "      \"total_tokens\": 331,\n",
      "      \"completion_tokens_details\": {\n",
      "        \"accepted_prediction_tokens\": 0,\n",
      "        \"audio_tokens\": 0,\n",
      "        \"reasoning_tokens\": 0,\n",
      "        \"rejected_prediction_tokens\": 0\n",
      "      },\n",
      "      \"prompt_tokens_details\": {\n",
      "        \"audio_tokens\": 0,\n",
      "        \"cached_tokens\": 0\n",
      "      }\n",
      "    },\n",
      "    \"model_name\": \"gpt-4o-mini-2024-07-18\",\n",
      "    \"system_fingerprint\": \"fp_b705f0c291\",\n",
      "    \"prompt_filter_results\": [\n",
      "      {\n",
      "        \"prompt_index\": 0,\n",
      "        \"content_filter_results\": {\n",
      "          \"hate\": {\n",
      "            \"filtered\": false,\n",
      "            \"severity\": \"safe\"\n",
      "          },\n",
      "          \"jailbreak\": {\n",
      "            \"filtered\": false,\n",
      "            \"detected\": false\n",
      "          },\n",
      "          \"self_harm\": {\n",
      "            \"filtered\": false,\n",
      "            \"severity\": \"safe\"\n",
      "          },\n",
      "          \"sexual\": {\n",
      "            \"filtered\": false,\n",
      "            \"severity\": \"safe\"\n",
      "          },\n",
      "          \"violence\": {\n",
      "            \"filtered\": false,\n",
      "            \"severity\": \"safe\"\n",
      "          }\n",
      "        }\n",
      "      }\n",
      "    ]\n",
      "  },\n",
      "  \"run\": null,\n",
      "  \"type\": \"LLMResult\"\n",
      "}\n",
      "\u001b[36;1m\u001b[1;3m[chain/end]\u001b[0m \u001b[1m[chain:AgentExecutor > chain:LLMChain] [732ms] Exiting Chain run with output:\n",
      "\u001b[0m{\n",
      "  \"text\": \"I now know the final answer\\nFinal Answer: <class 'float'>\"\n",
      "}\n",
      "\u001b[36;1m\u001b[1;3m[chain/end]\u001b[0m \u001b[1m[chain:AgentExecutor] [2.42s] Exiting Chain run with output:\n",
      "\u001b[0m{\n",
      "  \"output\": \"<class 'float'>\"\n",
      "}\n"
     ]
    }
   ],
   "source": [
    "\"\"\" 如果希望使用langsmith进行调试，就需要设置以下环境变量\n",
    "    !set LANGCHAIN_TRACING_V2=true\n",
    "    !set LANGCHAIN_API_KEY=                    \n",
    "\"\"\"\n",
    "#当然也可以直接set_debug和set_verbose全局变量来打印详细执行过程\n",
    "from langchain.globals import set_debug\n",
    "set_debug(True)\n",
    "\n",
    "python_agent.invoke(\"type(3.20)\")\n",
    "set_debug(False)"
   ]
  },
  {
   "cell_type": "markdown",
   "id": "9194731d-31a9-411e-91d9-b401b1ae67b7",
   "metadata": {},
   "source": [
    "开始自定义自己的tool"
   ]
  },
  {
   "cell_type": "code",
   "execution_count": 72,
   "id": "2fd6af77-b404-4619-a88f-332ba3d83914",
   "metadata": {},
   "outputs": [],
   "source": [
    "from langchain.agents import tool\n",
    "from datetime import date"
   ]
  },
  {
   "cell_type": "code",
   "execution_count": 73,
   "id": "882c61e8-ccd1-4821-803c-237de531fc8e",
   "metadata": {},
   "outputs": [],
   "source": [
    "@tool\n",
    "def time(text: str) -> str:\n",
    "    \"\"\"\n",
    "    Returns todays date, use this for anyquestions related to knowing todays\\\n",
    "    date. The input should always be an empty string, and this function will\\\n",
    "    always return todays date - any date mathematics should occur outside\\\n",
    "    this function.\n",
    "    \"\"\"\n",
    "    return str(date.today())"
   ]
  },
  {
   "cell_type": "code",
   "execution_count": 79,
   "id": "fd0b9d23-1ab8-43a2-a322-675b5eac07f4",
   "metadata": {
    "collapsed": true,
    "jupyter": {
     "outputs_hidden": true
    },
    "scrolled": true
   },
   "outputs": [
    {
     "name": "stdout",
     "output_type": "stream",
     "text": [
      "\n",
      "\n",
      "\u001b[1m> Entering new AgentExecutor chain...\u001b[0m\n",
      "\u001b[32;1m\u001b[1;3m\n",
      "Invoking: `time` with `{'text': ''}`\n",
      "\n",
      "\n",
      "\u001b[32;1m\u001b[1;3mToday is March 2, 2025.\u001b[0m\n",
      "\n",
      "\u001b[1m> Finished chain.\u001b[0m\n"
     ]
    },
    {
     "data": {
      "text/plain": [
       "{'input': 'What day is it today?', 'output': 'Today is March 2, 2025.'}"
      ]
     },
     "execution_count": 79,
     "metadata": {},
     "output_type": "execute_result"
    }
   ],
   "source": [
    "#基于AgentExecutor的标准实现\n",
    "prompt = ChatPromptTemplate.from_messages(\n",
    "    [\n",
    "        (\"system\", \"You are a helpful assistant\"),\n",
    "        (\"human\", \"{input}\"),\n",
    "        # Placeholders fill up a **list** of messages\n",
    "        (\"placeholder\", \"{agent_scratchpad}\"),\n",
    "    ]\n",
    ")\n",
    "agent2 = create_tool_calling_agent(llm, [time], prompt)\n",
    "date_agent = AgentExecutor(agent=agent2, tools=[time], verbose=True)\n",
    "set_debug=True\n",
    "date_agent.invoke({\"input\":\"What day is it today?\"})"
   ]
  },
  {
   "cell_type": "code",
   "execution_count": 80,
   "id": "05e2b467-69ae-40cd-ac6a-e1d5c4df8d07",
   "metadata": {},
   "outputs": [],
   "source": [
    "date_agent1 = initialize_agent(\n",
    "    [time],\n",
    "    llm,\n",
    "    agent=AgentType.CHAT_ZERO_SHOT_REACT_DESCRIPTION,\n",
    "    handle_parsing_errors=True,\n",
    "    verbose=True\n",
    ")"
   ]
  },
  {
   "cell_type": "code",
   "execution_count": 82,
   "id": "ea376628-f9d6-4e8a-bb87-36ea99b139bc",
   "metadata": {},
   "outputs": [
    {
     "name": "stdout",
     "output_type": "stream",
     "text": [
      "\n",
      "\n",
      "\u001b[1m> Entering new AgentExecutor chain...\u001b[0m\n",
      "\u001b[32;1m\u001b[1;3mThought: I need to find out today's date in numeric format. I will use the time tool to get the current date. \n",
      "Action:\n",
      "```\n",
      "{\n",
      "  \"action\": \"time\",\n",
      "  \"action_input\": \"\"\n",
      "}\n",
      "```\n",
      "\u001b[0m\n",
      "Observation: \u001b[36;1m\u001b[1;3m2025-03-02\u001b[0m\n",
      "\u001b[32;1m\u001b[1;3mI need to extract the numeric format of today's date from the observation. The date is in the format YYYY-MM-DD, which means today is March 2, 2025. \n",
      "\n",
      "Thought: I now know the final answer.\n",
      "Final Answer: 2025-03-02\u001b[0m\n",
      "\n",
      "\u001b[1m> Finished chain.\u001b[0m\n"
     ]
    },
    {
     "data": {
      "text/plain": [
       "{'input': 'What day is it today? Output in numeric format.',\n",
       " 'output': '2025-03-02'}"
      ]
     },
     "execution_count": 82,
     "metadata": {},
     "output_type": "execute_result"
    }
   ],
   "source": [
    "date_agent1({\"input\":\"What day is it today? Output in numeric format.\"})"
   ]
  },
  {
   "cell_type": "code",
   "execution_count": null,
   "id": "a562252e-a3ec-4781-b454-2bac47dd5fdd",
   "metadata": {},
   "outputs": [],
   "source": []
  }
 ],
 "metadata": {
  "kernelspec": {
   "display_name": "Python (myenv)",
   "language": "python",
   "name": "myenv"
  },
  "language_info": {
   "codemirror_mode": {
    "name": "ipython",
    "version": 3
   },
   "file_extension": ".py",
   "mimetype": "text/x-python",
   "name": "python",
   "nbconvert_exporter": "python",
   "pygments_lexer": "ipython3",
   "version": "3.12.9"
  }
 },
 "nbformat": 4,
 "nbformat_minor": 5
}
