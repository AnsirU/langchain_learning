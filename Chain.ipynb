{
 "cells": [
  {
   "cell_type": "code",
   "execution_count": 2,
   "id": "5aeed12e-ef29-4597-91aa-700f16be3e88",
   "metadata": {},
   "outputs": [
    {
     "data": {
      "text/plain": [
       "True"
      ]
     },
     "execution_count": 2,
     "metadata": {},
     "output_type": "execute_result"
    }
   ],
   "source": [
    "import os\n",
    "from dotenv import load_dotenv\n",
    "load_dotenv()"
   ]
  },
  {
   "cell_type": "code",
   "execution_count": 5,
   "id": "f6d79608-811c-42ea-b725-257bdcc68b5f",
   "metadata": {
    "scrolled": true
   },
   "outputs": [
    {
     "name": "stdout",
     "output_type": "stream",
     "text": [
      "Collecting pandas\n",
      "  Downloading pandas-2.2.3-cp312-cp312-win_amd64.whl.metadata (19 kB)\n",
      "Requirement already satisfied: numpy>=1.26.0 in d:\\anaconda\\envs\\myenv\\lib\\site-packages (from pandas) (2.2.3)\n",
      "Requirement already satisfied: python-dateutil>=2.8.2 in d:\\anaconda\\envs\\myenv\\lib\\site-packages (from pandas) (2.9.0.post0)\n",
      "Collecting pytz>=2020.1 (from pandas)\n",
      "  Using cached pytz-2025.1-py2.py3-none-any.whl.metadata (22 kB)\n",
      "Collecting tzdata>=2022.7 (from pandas)\n",
      "  Using cached tzdata-2025.1-py2.py3-none-any.whl.metadata (1.4 kB)\n",
      "Requirement already satisfied: six>=1.5 in d:\\anaconda\\envs\\myenv\\lib\\site-packages (from python-dateutil>=2.8.2->pandas) (1.16.0)\n",
      "Downloading pandas-2.2.3-cp312-cp312-win_amd64.whl (11.5 MB)\n",
      "   ---------------------------------------- 0.0/11.5 MB ? eta -:--:--\n",
      "   ---------------------------------------- 0.0/11.5 MB ? eta -:--:--\n",
      "    --------------------------------------- 0.3/11.5 MB ? eta -:--:--\n",
      "   - -------------------------------------- 0.5/11.5 MB 840.2 kB/s eta 0:00:14\n",
      "   - -------------------------------------- 0.5/11.5 MB 840.2 kB/s eta 0:00:14\n",
      "   -- ------------------------------------- 0.8/11.5 MB 960.2 kB/s eta 0:00:12\n",
      "   --- ------------------------------------ 1.0/11.5 MB 898.8 kB/s eta 0:00:12\n",
      "   --- ------------------------------------ 1.0/11.5 MB 898.8 kB/s eta 0:00:12\n",
      "   ---- ----------------------------------- 1.3/11.5 MB 871.6 kB/s eta 0:00:12\n",
      "   ----- ---------------------------------- 1.6/11.5 MB 873.8 kB/s eta 0:00:12\n",
      "   ------ --------------------------------- 1.8/11.5 MB 907.1 kB/s eta 0:00:11\n",
      "   ------ --------------------------------- 1.8/11.5 MB 907.1 kB/s eta 0:00:11\n",
      "   ------- -------------------------------- 2.1/11.5 MB 903.5 kB/s eta 0:00:11\n",
      "   -------- ------------------------------- 2.4/11.5 MB 913.4 kB/s eta 0:00:11\n",
      "   --------- ------------------------------ 2.6/11.5 MB 904.3 kB/s eta 0:00:10\n",
      "   --------- ------------------------------ 2.6/11.5 MB 904.3 kB/s eta 0:00:10\n",
      "   ---------- ----------------------------- 2.9/11.5 MB 916.9 kB/s eta 0:00:10\n",
      "   ---------- ----------------------------- 3.1/11.5 MB 891.6 kB/s eta 0:00:10\n",
      "   ---------- ----------------------------- 3.1/11.5 MB 891.6 kB/s eta 0:00:10\n",
      "   ----------- ---------------------------- 3.4/11.5 MB 902.9 kB/s eta 0:00:09\n",
      "   ------------ --------------------------- 3.7/11.5 MB 901.3 kB/s eta 0:00:09\n",
      "   ------------- -------------------------- 3.9/11.5 MB 907.1 kB/s eta 0:00:09\n",
      "   ------------- -------------------------- 3.9/11.5 MB 907.1 kB/s eta 0:00:09\n",
      "   -------------- ------------------------- 4.2/11.5 MB 886.2 kB/s eta 0:00:09\n",
      "   --------------- ------------------------ 4.5/11.5 MB 894.9 kB/s eta 0:00:08\n",
      "   --------------- ------------------------ 4.5/11.5 MB 894.9 kB/s eta 0:00:08\n",
      "   ---------------- ----------------------- 4.7/11.5 MB 877.6 kB/s eta 0:00:08\n",
      "   ----------------- ---------------------- 5.0/11.5 MB 885.6 kB/s eta 0:00:08\n",
      "   ----------------- ---------------------- 5.0/11.5 MB 885.6 kB/s eta 0:00:08\n",
      "   ------------------ --------------------- 5.2/11.5 MB 880.6 kB/s eta 0:00:08\n",
      "   ------------------- -------------------- 5.5/11.5 MB 887.7 kB/s eta 0:00:07\n",
      "   ------------------- -------------------- 5.5/11.5 MB 887.7 kB/s eta 0:00:07\n",
      "   -------------------- ------------------- 5.8/11.5 MB 878.7 kB/s eta 0:00:07\n",
      "   -------------------- ------------------- 6.0/11.5 MB 887.3 kB/s eta 0:00:07\n",
      "   --------------------- ------------------ 6.3/11.5 MB 887.2 kB/s eta 0:00:06\n",
      "   ---------------------- ----------------- 6.6/11.5 MB 896.9 kB/s eta 0:00:06\n",
      "   ---------------------- ----------------- 6.6/11.5 MB 896.9 kB/s eta 0:00:06\n",
      "   ----------------------- ---------------- 6.8/11.5 MB 898.2 kB/s eta 0:00:06\n",
      "   ------------------------ --------------- 7.1/11.5 MB 897.6 kB/s eta 0:00:05\n",
      "   ------------------------ --------------- 7.1/11.5 MB 897.6 kB/s eta 0:00:05\n",
      "   ------------------------- -------------- 7.3/11.5 MB 888.3 kB/s eta 0:00:05\n",
      "   -------------------------- ------------- 7.6/11.5 MB 893.2 kB/s eta 0:00:05\n",
      "   --------------------------- ------------ 7.9/11.5 MB 891.1 kB/s eta 0:00:05\n",
      "   --------------------------- ------------ 7.9/11.5 MB 891.1 kB/s eta 0:00:05\n",
      "   ---------------------------- ----------- 8.1/11.5 MB 897.2 kB/s eta 0:00:04\n",
      "   ----------------------------- ---------- 8.4/11.5 MB 896.8 kB/s eta 0:00:04\n",
      "   ------------------------------ --------- 8.7/11.5 MB 902.4 kB/s eta 0:00:04\n",
      "   ------------------------------ --------- 8.7/11.5 MB 902.4 kB/s eta 0:00:04\n",
      "   ------------------------------ --------- 8.9/11.5 MB 897.4 kB/s eta 0:00:03\n",
      "   ------------------------------- -------- 9.2/11.5 MB 895.5 kB/s eta 0:00:03\n",
      "   -------------------------------- ------- 9.4/11.5 MB 900.7 kB/s eta 0:00:03\n",
      "   -------------------------------- ------- 9.4/11.5 MB 900.7 kB/s eta 0:00:03\n",
      "   --------------------------------- ------ 9.7/11.5 MB 905.6 kB/s eta 0:00:02\n",
      "   ---------------------------------- ----- 10.0/11.5 MB 903.6 kB/s eta 0:00:02\n",
      "   ----------------------------------- ---- 10.2/11.5 MB 905.6 kB/s eta 0:00:02\n",
      "   ----------------------------------- ---- 10.2/11.5 MB 905.6 kB/s eta 0:00:02\n",
      "   ------------------------------------ --- 10.5/11.5 MB 905.1 kB/s eta 0:00:02\n",
      "   ------------------------------------- -- 10.7/11.5 MB 906.9 kB/s eta 0:00:01\n",
      "   -------------------------------------- - 11.0/11.5 MB 907.5 kB/s eta 0:00:01\n",
      "   ---------------------------------------  11.3/11.5 MB 909.2 kB/s eta 0:00:01\n",
      "   ---------------------------------------  11.3/11.5 MB 909.2 kB/s eta 0:00:01\n",
      "   ---------------------------------------- 11.5/11.5 MB 909.6 kB/s eta 0:00:00\n",
      "Using cached pytz-2025.1-py2.py3-none-any.whl (507 kB)\n",
      "Using cached tzdata-2025.1-py2.py3-none-any.whl (346 kB)\n",
      "Installing collected packages: pytz, tzdata, pandas\n",
      "Successfully installed pandas-2.2.3 pytz-2025.1 tzdata-2025.1\n"
     ]
    }
   ],
   "source": [
    "!pip install pandas"
   ]
  },
  {
   "cell_type": "code",
   "execution_count": 6,
   "id": "4772c0b2-4df2-49b7-9f0b-1c1ab5c37e09",
   "metadata": {},
   "outputs": [],
   "source": [
    "import pandas as pd\n",
    "df = pd.read_csv('nba.csv')"
   ]
  },
  {
   "cell_type": "code",
   "execution_count": 8,
   "id": "9070ec3f-a8e1-4162-afa4-2b1223115b8f",
   "metadata": {},
   "outputs": [
    {
     "data": {
      "text/html": [
       "<div>\n",
       "<style scoped>\n",
       "    .dataframe tbody tr th:only-of-type {\n",
       "        vertical-align: middle;\n",
       "    }\n",
       "\n",
       "    .dataframe tbody tr th {\n",
       "        vertical-align: top;\n",
       "    }\n",
       "\n",
       "    .dataframe thead th {\n",
       "        text-align: right;\n",
       "    }\n",
       "</style>\n",
       "<table border=\"1\" class=\"dataframe\">\n",
       "  <thead>\n",
       "    <tr style=\"text-align: right;\">\n",
       "      <th></th>\n",
       "      <th>Name</th>\n",
       "      <th>Team</th>\n",
       "      <th>Number</th>\n",
       "      <th>Position</th>\n",
       "      <th>Age</th>\n",
       "      <th>Height</th>\n",
       "      <th>Weight</th>\n",
       "      <th>College</th>\n",
       "      <th>Salary</th>\n",
       "    </tr>\n",
       "  </thead>\n",
       "  <tbody>\n",
       "    <tr>\n",
       "      <th>0</th>\n",
       "      <td>Avery Bradley</td>\n",
       "      <td>Boston Celtics</td>\n",
       "      <td>0.0</td>\n",
       "      <td>PG</td>\n",
       "      <td>25.0</td>\n",
       "      <td>6-2</td>\n",
       "      <td>180.0</td>\n",
       "      <td>Texas</td>\n",
       "      <td>7730337.0</td>\n",
       "    </tr>\n",
       "    <tr>\n",
       "      <th>1</th>\n",
       "      <td>Jae Crowder</td>\n",
       "      <td>Boston Celtics</td>\n",
       "      <td>99.0</td>\n",
       "      <td>SF</td>\n",
       "      <td>25.0</td>\n",
       "      <td>6-6</td>\n",
       "      <td>235.0</td>\n",
       "      <td>Marquette</td>\n",
       "      <td>6796117.0</td>\n",
       "    </tr>\n",
       "    <tr>\n",
       "      <th>2</th>\n",
       "      <td>John Holland</td>\n",
       "      <td>Boston Celtics</td>\n",
       "      <td>30.0</td>\n",
       "      <td>SG</td>\n",
       "      <td>27.0</td>\n",
       "      <td>6-5</td>\n",
       "      <td>205.0</td>\n",
       "      <td>Boston University</td>\n",
       "      <td>NaN</td>\n",
       "    </tr>\n",
       "    <tr>\n",
       "      <th>3</th>\n",
       "      <td>R.J. Hunter</td>\n",
       "      <td>Boston Celtics</td>\n",
       "      <td>28.0</td>\n",
       "      <td>SG</td>\n",
       "      <td>22.0</td>\n",
       "      <td>6-5</td>\n",
       "      <td>185.0</td>\n",
       "      <td>Georgia State</td>\n",
       "      <td>1148640.0</td>\n",
       "    </tr>\n",
       "    <tr>\n",
       "      <th>4</th>\n",
       "      <td>Jonas Jerebko</td>\n",
       "      <td>Boston Celtics</td>\n",
       "      <td>8.0</td>\n",
       "      <td>PF</td>\n",
       "      <td>29.0</td>\n",
       "      <td>6-10</td>\n",
       "      <td>231.0</td>\n",
       "      <td>NaN</td>\n",
       "      <td>5000000.0</td>\n",
       "    </tr>\n",
       "  </tbody>\n",
       "</table>\n",
       "</div>"
      ],
      "text/plain": [
       "            Name            Team  Number Position   Age Height  Weight  \\\n",
       "0  Avery Bradley  Boston Celtics     0.0       PG  25.0    6-2   180.0   \n",
       "1    Jae Crowder  Boston Celtics    99.0       SF  25.0    6-6   235.0   \n",
       "2   John Holland  Boston Celtics    30.0       SG  27.0    6-5   205.0   \n",
       "3    R.J. Hunter  Boston Celtics    28.0       SG  22.0    6-5   185.0   \n",
       "4  Jonas Jerebko  Boston Celtics     8.0       PF  29.0   6-10   231.0   \n",
       "\n",
       "             College     Salary  \n",
       "0              Texas  7730337.0  \n",
       "1          Marquette  6796117.0  \n",
       "2  Boston University        NaN  \n",
       "3      Georgia State  1148640.0  \n",
       "4                NaN  5000000.0  "
      ]
     },
     "execution_count": 8,
     "metadata": {},
     "output_type": "execute_result"
    }
   ],
   "source": [
    "df.head()"
   ]
  },
  {
   "cell_type": "code",
   "execution_count": 9,
   "id": "43982141-0aaa-418b-8ef6-8e268c629208",
   "metadata": {},
   "outputs": [],
   "source": [
    "from langchain.chat_models import AzureChatOpenAI\n",
    "from langchain.prompts import ChatPromptTemplate\n",
    "from langchain.chains import LLMChain"
   ]
  },
  {
   "cell_type": "code",
   "execution_count": 10,
   "id": "5204e145-ecc3-4e50-bd68-e8a75089d927",
   "metadata": {},
   "outputs": [
    {
     "name": "stderr",
     "output_type": "stream",
     "text": [
      "C:\\Users\\HUAWEI\\AppData\\Local\\Temp\\ipykernel_21048\\2764354304.py:1: LangChainDeprecationWarning: The class `AzureChatOpenAI` was deprecated in LangChain 0.0.10 and will be removed in 1.0. An updated version of the class exists in the :class:`~langchain-openai package and should be used instead. To use it run `pip install -U :class:`~langchain-openai` and import as `from :class:`~langchain_openai import AzureChatOpenAI``.\n",
      "  llm = AzureChatOpenAI(\n",
      "D:\\Anaconda\\envs\\myenv\\Lib\\site-packages\\langchain_community\\chat_models\\azure_openai.py:174: UserWarning: As of openai>=1.0.0, Azure endpoints should be specified via the `azure_endpoint` param not `openai_api_base` (or alias `base_url`). Updating `openai_api_base` from https://pcg-east-us-2.openai.azure.com/ to https://pcg-east-us-2.openai.azure.com/openai.\n",
      "  warnings.warn(\n",
      "D:\\Anaconda\\envs\\myenv\\Lib\\site-packages\\langchain_community\\chat_models\\azure_openai.py:181: UserWarning: As of openai>=1.0.0, if `deployment_name` (or alias `azure_deployment`) is specified then `openai_api_base` (or alias `base_url`) should not be. Instead use `deployment_name` (or alias `azure_deployment`) and `azure_endpoint`.\n",
      "  warnings.warn(\n",
      "D:\\Anaconda\\envs\\myenv\\Lib\\site-packages\\langchain_community\\chat_models\\azure_openai.py:189: UserWarning: As of openai>=1.0.0, if `openai_api_base` (or alias `base_url`) is specified it is expected to be of the form https://example-resource.azure.openai.com/openai/deployments/example-deployment. Updating https://pcg-east-us-2.openai.azure.com/ to https://pcg-east-us-2.openai.azure.com/openai.\n",
      "  warnings.warn(\n"
     ]
    }
   ],
   "source": [
    "llm = AzureChatOpenAI(\n",
    "    azure_endpoint=os.getenv(\"AZURE_ENDPOINT\"),  # 从环境变量读取\n",
    "    openai_api_version=os.getenv(\"OPENAI_API_VERSION\"),\n",
    "    openai_api_key=os.getenv(\"OPENAI_API_KEY\"),\n",
    "    deployment_name=\"gpt-4o-mini\",\n",
    "    model_name=\"gpt-4o-mini\",\n",
    "    temperature=0.7\n",
    ")"
   ]
  },
  {
   "cell_type": "code",
   "execution_count": 16,
   "id": "9fb852d3-d2f0-4b64-82c3-76736b08e686",
   "metadata": {},
   "outputs": [],
   "source": [
    "prompt = ChatPromptTemplate.from_template(\n",
    "    \"What is the best name to describe a team that hires the {player}?\"\n",
    ")"
   ]
  },
  {
   "cell_type": "code",
   "execution_count": 22,
   "id": "0dcfaa90-4157-4edf-821b-97289fedb734",
   "metadata": {},
   "outputs": [],
   "source": [
    "chain = LLMChain(llm=llm, prompt=prompt)"
   ]
  },
  {
   "cell_type": "code",
   "execution_count": 25,
   "id": "198832dc-db54-4b62-99ed-3213d0b225e4",
   "metadata": {},
   "outputs": [
    {
     "data": {
      "text/plain": [
       "{'player': 'Jonas Jerebko',\n",
       " 'text': 'A fitting name for a team that hires Jonas Jerebko could be \"Jerebko\\'s Journeymen\" or \"Jerebko\\'s Juggernauts.\" These names highlight his dynamic playing style and versatility, while also emphasizing teamwork and strength. Alternatively, you could go for something like \"The Jerebko Effect\" to showcase the impact he brings to the team. Ultimately, the best name will depend on the team\\'s identity and culture!'}"
      ]
     },
     "execution_count": 25,
     "metadata": {},
     "output_type": "execute_result"
    }
   ],
   "source": [
    "player = \"Jonas Jerebko\"\n",
    "chain.invoke(player)"
   ]
  },
  {
   "cell_type": "code",
   "execution_count": 33,
   "id": "e2d36b1c-fed3-4c2a-acc2-1c2826ece16f",
   "metadata": {},
   "outputs": [],
   "source": [
    "from langchain.chains import SimpleSequentialChain\n",
    "#事实上，该模块被标记为弃用，后面直接使用‘|’来构建pipeline"
   ]
  },
  {
   "cell_type": "code",
   "execution_count": 34,
   "id": "cafa3d82-4773-4ae3-bcbc-9f7b04cfbdff",
   "metadata": {},
   "outputs": [
    {
     "name": "stderr",
     "output_type": "stream",
     "text": [
      "D:\\Anaconda\\envs\\myenv\\Lib\\site-packages\\langchain_community\\chat_models\\azure_openai.py:174: UserWarning: As of openai>=1.0.0, Azure endpoints should be specified via the `azure_endpoint` param not `openai_api_base` (or alias `base_url`). Updating `openai_api_base` from https://pcg-east-us-2.openai.azure.com/ to https://pcg-east-us-2.openai.azure.com/openai.\n",
      "  warnings.warn(\n",
      "D:\\Anaconda\\envs\\myenv\\Lib\\site-packages\\langchain_community\\chat_models\\azure_openai.py:181: UserWarning: As of openai>=1.0.0, if `deployment_name` (or alias `azure_deployment`) is specified then `openai_api_base` (or alias `base_url`) should not be. Instead use `deployment_name` (or alias `azure_deployment`) and `azure_endpoint`.\n",
      "  warnings.warn(\n",
      "D:\\Anaconda\\envs\\myenv\\Lib\\site-packages\\langchain_community\\chat_models\\azure_openai.py:189: UserWarning: As of openai>=1.0.0, if `openai_api_base` (or alias `base_url`) is specified it is expected to be of the form https://example-resource.azure.openai.com/openai/deployments/example-deployment. Updating https://pcg-east-us-2.openai.azure.com/ to https://pcg-east-us-2.openai.azure.com/openai.\n",
      "  warnings.warn(\n"
     ]
    }
   ],
   "source": [
    "llm = AzureChatOpenAI(\n",
    "    azure_endpoint=os.getenv(\"AZURE_ENDPOINT\"),  # 从环境变量读取\n",
    "    openai_api_version=os.getenv(\"OPENAI_API_VERSION\"),\n",
    "    openai_api_key=os.getenv(\"OPENAI_API_KEY\"),\n",
    "    deployment_name=\"gpt-4o-mini\",\n",
    "    model_name=\"gpt-4o-mini\",\n",
    "    temperature=0.7\n",
    ")"
   ]
  },
  {
   "cell_type": "code",
   "execution_count": 41,
   "id": "c18268e2-b627-4802-b1e6-e57579bbde2e",
   "metadata": {},
   "outputs": [],
   "source": [
    "#prompt template 1\n",
    "first_prompt = ChatPromptTemplate.from_template(\n",
    "    \"What is the best name to describe a team that hires the {player}?\"\n",
    ")\n",
    "\n",
    "#chain 1\n",
    "chain_1 = first_prompt|llm"
   ]
  },
  {
   "cell_type": "code",
   "execution_count": 42,
   "id": "d6064242-9f2b-4fe2-b751-545a1afe37d4",
   "metadata": {},
   "outputs": [],
   "source": [
    "#prompt template 1\n",
    "second_prompt = ChatPromptTemplate.from_template(\n",
    "    \"Wriet a 20 words description for the following player {player}.\"\n",
    ")\n",
    "\n",
    "#chain 2\n",
    "chain_2 = second_prompt|llm"
   ]
  },
  {
   "cell_type": "code",
   "execution_count": 43,
   "id": "2b554cbc-8d4d-44a9-82b3-bf22aa251dd2",
   "metadata": {},
   "outputs": [],
   "source": [
    "overall_simple_chain = chain_1|chain_2"
   ]
  },
  {
   "cell_type": "code",
   "execution_count": 44,
   "id": "2e7d5837-2ee5-4bba-b6c5-f3dfed2dcaa8",
   "metadata": {},
   "outputs": [
    {
     "name": "stdout",
     "output_type": "stream",
     "text": [
      "Jonas Jerebko embodies power and leadership on the court, inspiring team names like \"Jerebko's Juggernauts\" and \"Jerebko's Warriors.\"\n"
     ]
    }
   ],
   "source": [
    "response = overall_simple_chain.invoke(player)\n",
    "print(response.content)"
   ]
  },
  {
   "cell_type": "code",
   "execution_count": null,
   "id": "9c58b3be-12d2-489e-adb5-0405647784af",
   "metadata": {},
   "outputs": [],
   "source": []
  }
 ],
 "metadata": {
  "kernelspec": {
   "display_name": "Python (myenv)",
   "language": "python",
   "name": "myenv"
  },
  "language_info": {
   "codemirror_mode": {
    "name": "ipython",
    "version": 3
   },
   "file_extension": ".py",
   "mimetype": "text/x-python",
   "name": "python",
   "nbconvert_exporter": "python",
   "pygments_lexer": "ipython3",
   "version": "3.12.9"
  }
 },
 "nbformat": 4,
 "nbformat_minor": 5
}
